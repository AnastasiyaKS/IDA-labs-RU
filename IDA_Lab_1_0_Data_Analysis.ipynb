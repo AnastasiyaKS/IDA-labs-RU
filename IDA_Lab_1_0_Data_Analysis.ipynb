{
  "nbformat": 4,
  "nbformat_minor": 0,
  "metadata": {
    "colab": {
      "name": "IDA Lab 1.0 Data Analysis.ipynb",
      "version": "0.3.2",
      "provenance": [],
      "collapsed_sections": [
        "cBMgeWBXDWDd",
        "4UxYLxPUDWDr"
      ],
      "include_colab_link": true
    },
    "kernelspec": {
      "name": "python2",
      "display_name": "Python 2"
    }
  },
  "cells": [
    {
      "cell_type": "markdown",
      "metadata": {
        "id": "view-in-github",
        "colab_type": "text"
      },
      "source": [
        "<a href=\"https://colab.research.google.com/github/AnastasiyaKS/IDA-labs-RU/blob/master/IDA_Lab_1_0_Data_Analysis.ipynb\" target=\"_parent\"><img src=\"https://colab.research.google.com/assets/colab-badge.svg\" alt=\"Open In Colab\"/></a>"
      ]
    },
    {
      "metadata": {
        "render": true,
        "id": "Tz2wn9taDWCd",
        "colab_type": "text"
      },
      "cell_type": "markdown",
      "source": [
        "<a href=\"https://www.bigdatauniversity.com\"><img src = \"https://ibm.box.com/shared/static/jvcqp2iy2jlx2b32rmzdt0tx8lvxgzkp.png\" width = 300, align = \"center\"></a>\n",
        "\n",
        "#<center> Анализ данных с использованием Python </center>\n"
      ]
    },
    {
      "metadata": {
        "id": "sa6w5-7vDWCh",
        "colab_type": "text"
      },
      "cell_type": "markdown",
      "source": [
        "<hr>"
      ]
    },
    {
      "metadata": {
        "id": "pE8If8VFDWCm",
        "colab_type": "text"
      },
      "cell_type": "markdown",
      "source": [
        "##<center>Выбросы CO2 по странам по годам </center>\n",
        "\n",
        "Выбросы углекислого газа - это выбросы от сжигания ископаемого топлива и производства цемента. Они включают углекислый газ, образующийся при потреблении твердого, жидкого и газового топлива и сжигания газа."
      ]
    },
    {
      "metadata": {
        "id": "pBmc4hAWDWCn",
        "colab_type": "text"
      },
      "cell_type": "markdown",
      "source": [
        "http://data.worldbank.org/indicator/EN.ATM.CO2E.PC/"
      ]
    },
    {
      "metadata": {
        "id": "j-sAp672DWCp",
        "colab_type": "text"
      },
      "cell_type": "markdown",
      "source": [
        "### Получение данных"
      ]
    },
    {
      "metadata": {
        "id": "qjzLWibMDWCr",
        "colab_type": "text"
      },
      "cell_type": "markdown",
      "source": [
        "Данные можно загрузить по ссылке The World Bank [here](http://data.worldbank.org/indicator/EN.ATM.CO2E.PC/) либо [here](https://ibm.box.com/shared/static/3yzxbbizo49bkl8cnjw15tymzfwkycj4.csv)"
      ]
    },
    {
      "metadata": {
        "id": "o0hkX_ObDWCt",
        "colab_type": "text"
      },
      "cell_type": "markdown",
      "source": [
        "#### Здесь мы будем использовать команду ***wget***, чтобы получить файл ***csv*** из прямой ссылки"
      ]
    },
    {
      "metadata": {
        "id": "ElRkjbBuDWCx",
        "colab_type": "code",
        "colab": {}
      },
      "cell_type": "code",
      "source": [
        "!wget --output-document co2emissions.csv https://ibm.box.com/shared/static/3yzxbbizo49bkl8cnjw15tymzfwkycj4.csv"
      ],
      "execution_count": 0,
      "outputs": []
    },
    {
      "metadata": {
        "id": "sf1qKbILDWC9",
        "colab_type": "text"
      },
      "cell_type": "markdown",
      "source": [
        "<hr>"
      ]
    },
    {
      "metadata": {
        "id": "-pkqlQXcDWC_",
        "colab_type": "text"
      },
      "cell_type": "markdown",
      "source": [
        "### Импорт данныx с помощью Pandas"
      ]
    },
    {
      "metadata": {
        "id": "cc0VKNKrDWDB",
        "colab_type": "text"
      },
      "cell_type": "markdown",
      "source": [
        "#### Импорт `pandas` library"
      ]
    },
    {
      "metadata": {
        "id": "xxq5xJUdDWDD",
        "colab_type": "code",
        "colab": {}
      },
      "cell_type": "code",
      "source": [
        "import pandas as pd"
      ],
      "execution_count": 0,
      "outputs": []
    },
    {
      "metadata": {
        "id": "e2yJrJrZDWDI",
        "colab_type": "text"
      },
      "cell_type": "markdown",
      "source": [
        "#### Импорт данных с помощью `pd.read_csv`"
      ]
    },
    {
      "metadata": {
        "id": "p9W9_AQDDWDK",
        "colab_type": "code",
        "colab": {}
      },
      "cell_type": "code",
      "source": [
        "data = pd.read_csv(\"co2emissions.csv\", skiprows = 4)"
      ],
      "execution_count": 0,
      "outputs": []
    },
    {
      "metadata": {
        "id": "7ASZyEcODWDQ",
        "colab_type": "text"
      },
      "cell_type": "markdown",
      "source": [
        "#### Отобразим первые 5 строк  `data`, используя ` head`"
      ]
    },
    {
      "metadata": {
        "id": "I7mc7bzbDWDS",
        "colab_type": "code",
        "colab": {}
      },
      "cell_type": "code",
      "source": [
        "data.head()"
      ],
      "execution_count": 0,
      "outputs": []
    },
    {
      "metadata": {
        "id": "AvR8Ep4SDWDc",
        "colab_type": "text"
      },
      "cell_type": "markdown",
      "source": [
        "####Очистка данных</h2> "
      ]
    },
    {
      "metadata": {
        "id": "cBMgeWBXDWDd",
        "colab_type": "text"
      },
      "cell_type": "markdown",
      "source": [
        "Посмотрите на данные. Какие проблемы есть с качеством данных и как их решить?"
      ]
    },
    {
      "metadata": {
        "id": "EstaJDEaDWDg",
        "colab_type": "text"
      },
      "cell_type": "markdown",
      "source": [
        "Например, что не так с этими строками?"
      ]
    },
    {
      "metadata": {
        "id": "qlqcB1twDWDh",
        "colab_type": "code",
        "colab": {}
      },
      "cell_type": "code",
      "source": [
        "data.loc[[38,93,151,174,242]]"
      ],
      "execution_count": 0,
      "outputs": []
    },
    {
      "metadata": {
        "id": "oYHjI8mMDWDo",
        "colab_type": "text"
      },
      "cell_type": "markdown",
      "source": [
        "#### Проблемы с качеством данных:\n",
        "1. Некоторые строки представляют собой совокупности стран, а не фактические страны (например, «Мир»).\n",
        "2. Некоторые столбцы не имеют значения и могут быть удалены (например, «Имя индикатора»).\n",
        "3. Некоторые годы не имеют данных для какой-либо страны (например, с 2012 по 2015 год).\n",
        "4. В некоторых странах нет данных за год. (например, «Тайвань, Китай»)"
      ]
    },
    {
      "metadata": {
        "id": "qLdzEToAIVt9",
        "colab_type": "text"
      },
      "cell_type": "markdown",
      "source": [
        "## Устраним найденные недостатки"
      ]
    },
    {
      "metadata": {
        "id": "4UxYLxPUDWDr",
        "colab_type": "text"
      },
      "cell_type": "markdown",
      "source": [
        "### 1. Некоторые строки представляют собой совокупности стран, а не фактические страны (например, «Мир»). \n",
        "\n",
        "** Цели: **\n",
        "Удалите строки, которые не содержат фактическую страну. К счастью, Всемирный банк предоставляет нам метаданные, по которым строки являются странами и являются агрегатами.\n",
        "- import countries_metadata.csv\n",
        "- объединим (Merge) метаданные с `data`  по ` Country Code`"
      ]
    },
    {
      "metadata": {
        "id": "Q3ZexQ-4DWDs",
        "colab_type": "text"
      },
      "cell_type": "markdown",
      "source": [
        "#### Загрузим `countries_metadata.csv`"
      ]
    },
    {
      "metadata": {
        "id": "6Att516ZDWDu",
        "colab_type": "code",
        "colab": {}
      },
      "cell_type": "code",
      "source": [
        "!wget --output-document countries_metadata.csv https://ibm.box.com/shared/static/qh3o86mpij17ot7anydcmbwt41lwxvln.csv"
      ],
      "execution_count": 0,
      "outputs": []
    },
    {
      "metadata": {
        "id": "VxESgzUNDWD1",
        "colab_type": "text"
      },
      "cell_type": "markdown",
      "source": [
        "#### Импортируем `countries_metadata.csv`"
      ]
    },
    {
      "metadata": {
        "id": "7ws3PYJuDWD2",
        "colab_type": "code",
        "colab": {}
      },
      "cell_type": "code",
      "source": [
        "metadata = pd.read_csv(\"countries_metadata.csv\", encoding = \"utf-8\")"
      ],
      "execution_count": 0,
      "outputs": []
    },
    {
      "metadata": {
        "scrolled": true,
        "id": "V6iNkyHwDWD7",
        "colab_type": "code",
        "colab": {}
      },
      "cell_type": "code",
      "source": [
        "metadata.head(10)"
      ],
      "execution_count": 0,
      "outputs": []
    },
    {
      "metadata": {
        "collapsed": true,
        "id": "LKHsdNYWDWEC",
        "colab_type": "text"
      },
      "cell_type": "markdown",
      "source": [
        "#### Как определить, когда указанное «Country Name» является названием страны, а когда - агрегированным регионом?"
      ]
    },
    {
      "metadata": {
        "id": "2cTOQPrMDWEF",
        "colab_type": "text"
      },
      "cell_type": "markdown",
      "source": [
        "Можно заметить,  когда **строка** представляет собой **совокупность стран**, например, «Арабский мир» --> **`Region`** и **`IncomeGroup`** представляют собой **NaN** (Not a Number). Мы можем использовать это правило для удаления всех регионов, которые не являются странами."
      ]
    },
    {
      "metadata": {
        "id": "3WH21yXIDWEG",
        "colab_type": "text"
      },
      "cell_type": "markdown",
      "source": [
        "#### Объединить `данные` с` метаданными` по ключу `Код страны`\n",
        "\n",
        "**Merge** `data` with `metadata` on the key, `Country Code`"
      ]
    },
    {
      "metadata": {
        "id": "PiKsacRADWEO",
        "colab_type": "code",
        "colab": {}
      },
      "cell_type": "code",
      "source": [
        "merge = pd.merge(data, metadata, on = \"Country Code\")"
      ],
      "execution_count": 0,
      "outputs": []
    },
    {
      "metadata": {
        "id": "A9lBlaRODWEY",
        "colab_type": "code",
        "colab": {}
      },
      "cell_type": "code",
      "source": [
        "merge.head(10)"
      ],
      "execution_count": 0,
      "outputs": []
    },
    {
      "metadata": {
        "id": "7kch09VdDWEg",
        "colab_type": "text"
      },
      "cell_type": "markdown",
      "source": [
        "** Примечание: ** Значения региона являются NaN, когда строка не является реальной страной."
      ]
    },
    {
      "metadata": {
        "id": "1ujnx6KNDWEi",
        "colab_type": "text"
      },
      "cell_type": "markdown",
      "source": [
        "#### Удалите строки, где `Region` является NaN"
      ]
    },
    {
      "metadata": {
        "id": "uKMYvwv6DWEk",
        "colab_type": "code",
        "colab": {}
      },
      "cell_type": "code",
      "source": [
        "merge = merge[pd.notnull(merge['Region'])]"
      ],
      "execution_count": 0,
      "outputs": []
    },
    {
      "metadata": {
        "id": "HI9zkLynDWEo",
        "colab_type": "code",
        "colab": {}
      },
      "cell_type": "code",
      "source": [
        "merge.head(10)"
      ],
      "execution_count": 0,
      "outputs": []
    },
    {
      "metadata": {
        "id": "F18n3Er1DWEw",
        "colab_type": "text"
      },
      "cell_type": "markdown",
      "source": [
        "### 2. Некоторые столбцы не имеют значения и могут быть удалены."
      ]
    },
    {
      "metadata": {
        "id": "x6pU4vvRDWEy",
        "colab_type": "text"
      },
      "cell_type": "markdown",
      "source": [
        "** Цели: **\n",
        "\n",
        "Удалите следующие неуместные столбцы:\n",
        "- Столбец 3: ** «Имя индикатора» **\n",
        "- Столбец 4: ** «Код индикатора» **"
      ]
    },
    {
      "metadata": {
        "scrolled": true,
        "id": "M9nmFJbSDWE2",
        "colab_type": "code",
        "colab": {}
      },
      "cell_type": "code",
      "source": [
        "merge.columns"
      ],
      "execution_count": 0,
      "outputs": []
    },
    {
      "metadata": {
        "id": "bCcYO7aYDWE6",
        "colab_type": "code",
        "colab": {}
      },
      "cell_type": "code",
      "source": [
        "# справочную информацию о функции можно получить, добавив к названию функции вопросительный знак\n",
        "merge.drop?"
      ],
      "execution_count": 0,
      "outputs": []
    },
    {
      "metadata": {
        "id": "NyDTGqrVDWE-",
        "colab_type": "code",
        "colab": {}
      },
      "cell_type": "code",
      "source": [
        "merge = merge.drop(merge.columns[[60,61,64,65]], axis=1) # Note: zero indexed\n",
        "merge = merge.drop('Indicator Name', axis=1)\n",
        "merge = merge.drop('Indicator Code', 1)"
      ],
      "execution_count": 0,
      "outputs": []
    },
    {
      "metadata": {
        "id": "BZJUB6HWDWFB",
        "colab_type": "code",
        "colab": {}
      },
      "cell_type": "code",
      "source": [
        "merge.columns"
      ],
      "execution_count": 0,
      "outputs": []
    },
    {
      "metadata": {
        "id": "rTjuuTkCDWFH",
        "colab_type": "text"
      },
      "cell_type": "markdown",
      "source": [
        "### 3. Некоторые годы не содержат данных ни для одной страны"
      ]
    },
    {
      "metadata": {
        "id": "14e0PLp4DWFI",
        "colab_type": "text"
      },
      "cell_type": "markdown",
      "source": [
        "\n",
        "\n",
        "** Цели: **\n",
        "Подсчитайте количество строк для каждого года. Значение NaN не суммируется к общей сумме.\n"
      ]
    },
    {
      "metadata": {
        "scrolled": true,
        "id": "OmU3Pc0vDWFJ",
        "colab_type": "code",
        "colab": {}
      },
      "cell_type": "code",
      "source": [
        "merge.count()"
      ],
      "execution_count": 0,
      "outputs": []
    },
    {
      "metadata": {
        "id": "wt6xLWMMDWFN",
        "colab_type": "text"
      },
      "cell_type": "markdown",
      "source": [
        "Проверим 2015 год, поскольку, похоже, для этого года нет строк, содержащих данные."
      ]
    },
    {
      "metadata": {
        "id": "YujPO8h9DWFP",
        "colab_type": "code",
        "colab": {}
      },
      "cell_type": "code",
      "source": [
        "merge['2015']"
      ],
      "execution_count": 0,
      "outputs": []
    },
    {
      "metadata": {
        "id": "XYO21AsIDWFS",
        "colab_type": "text"
      },
      "cell_type": "markdown",
      "source": [
        "#### Удалим столбцы, которые не содержат данные"
      ]
    },
    {
      "metadata": {
        "id": "f6E1x4m3DWFU",
        "colab_type": "code",
        "colab": {}
      },
      "cell_type": "code",
      "source": [
        "merge = merge.drop(['2012', '2013', '2014', '2015'], 1)"
      ],
      "execution_count": 0,
      "outputs": []
    },
    {
      "metadata": {
        "id": "E7xdobSQDWFX",
        "colab_type": "code",
        "colab": {}
      },
      "cell_type": "code",
      "source": [
        "merge.count() #double-check that columns have been removed"
      ],
      "execution_count": 0,
      "outputs": []
    },
    {
      "metadata": {
        "id": "1WI7s6UvDWFb",
        "colab_type": "text"
      },
      "cell_type": "markdown",
      "source": [
        "### 4. В некоторых странах нет данных за год."
      ]
    },
    {
      "metadata": {
        "id": "9qiRvp4IDWFe",
        "colab_type": "text"
      },
      "cell_type": "markdown",
      "source": [
        "**Цели:**\n",
        "Используйте значения строк, чтобы определить, для каких стран нет данных.\n",
        "\n",
        "Посмотрим среднее значение всех данных для каждой строки (по оси 1)."
      ]
    },
    {
      "metadata": {
        "id": "Pu0JKIWwDWFi",
        "colab_type": "code",
        "colab": {}
      },
      "cell_type": "code",
      "source": [
        "merge.mean(axis=1) #Takes the mean of all numeric quantities by row"
      ],
      "execution_count": 0,
      "outputs": []
    },
    {
      "metadata": {
        "id": "fN_dFau8DWFl",
        "colab_type": "text"
      },
      "cell_type": "markdown",
      "source": [
        "Как вы можете видеть, NaN появляется, когда нет данных для этой строки."
      ]
    },
    {
      "metadata": {
        "id": "47cBbEkUDWFm",
        "colab_type": "text"
      },
      "cell_type": "markdown",
      "source": [
        "#### Удалим строки, в которых нет данных ни за один год"
      ]
    },
    {
      "metadata": {
        "scrolled": true,
        "id": "u4-cJljIDWFo",
        "colab_type": "code",
        "colab": {}
      },
      "cell_type": "code",
      "source": [
        "merge = merge[pd.notnull(merge.mean(axis=1))]"
      ],
      "execution_count": 0,
      "outputs": []
    },
    {
      "metadata": {
        "id": "NPmD0jguDWFu",
        "colab_type": "text"
      },
      "cell_type": "markdown",
      "source": [
        "## <center>Data Cleaning ... done!</center>"
      ]
    },
    {
      "metadata": {
        "id": "ng0dbBY4DWFv",
        "colab_type": "text"
      },
      "cell_type": "markdown",
      "source": [
        "### Переименуем полученный результат"
      ]
    },
    {
      "metadata": {
        "id": "S_Dk_BCRDWFw",
        "colab_type": "code",
        "colab": {}
      },
      "cell_type": "code",
      "source": [
        "mydf = merge"
      ],
      "execution_count": 0,
      "outputs": []
    },
    {
      "metadata": {
        "id": "aNVw4Z-RDWF4",
        "colab_type": "text"
      },
      "cell_type": "markdown",
      "source": [
        "<hr>"
      ]
    },
    {
      "metadata": {
        "collapsed": true,
        "id": "seNGjJMGDWF5",
        "colab_type": "text"
      },
      "cell_type": "markdown",
      "source": [
        "### А теперь обзор всех выполненных действий с данными.\n",
        "\n",
        "Напомним:"
      ]
    },
    {
      "metadata": {
        "id": "HBPZ-3eYDWF6",
        "colab_type": "code",
        "colab": {}
      },
      "cell_type": "code",
      "source": [
        "import pandas as pd\n",
        "\n",
        "#Download data\n",
        "#!wget --output-document co2emissions.csv https://ibm.box.com/shared/static/3yzxbbizo49bkl8cnjw15tymzfwkycj4.csv\n",
        "#!wget --output-document countries_metadata.csv https://ibm.box.com/shared/static/qh3o86mpij17ot7anydcmbwt41lwxvln.csv\n",
        "    \n",
        "#Import data\n",
        "data = pd.read_csv(\"/resources/data/co2emissions.csv\", skiprows = 4)\n",
        "metadata = pd.read_csv(\"/resources/data/countries_metadata.csv\", encoding = \"utf-8\")\n",
        "\n",
        "#Merge data\n",
        "merge = pd.merge(data, metadata, on = \"Country Code\")\n",
        "\n",
        "#Remove non-country regions\n",
        "merge = merge[pd.notnull(merge['Region'])]\n",
        "\n",
        "#Drop some columns with no data\n",
        "merge = merge.drop(merge.columns[[60,61,64,65]], axis=1)\n",
        "merge = merge.drop(['Indicator Name', 'Indicator Code','2012', '2013', '2014', '2015'], 1)\n",
        "\n",
        "#Drop some rows with no data\n",
        "merge = merge[pd.notnull(merge.mean(axis=1))]\n",
        "\n",
        "#Rename\n",
        "mydf = merge"
      ],
      "execution_count": 0,
      "outputs": []
    },
    {
      "metadata": {
        "id": "R-Z1Ah8SDWF9",
        "colab_type": "code",
        "colab": {}
      },
      "cell_type": "code",
      "source": [
        "mydf"
      ],
      "execution_count": 0,
      "outputs": []
    },
    {
      "metadata": {
        "id": "7CHCcUoRDWGF",
        "colab_type": "text"
      },
      "cell_type": "markdown",
      "source": [
        "## Экспортируем очищенные данные в файл csv"
      ]
    },
    {
      "metadata": {
        "id": "pTnVr222DWGG",
        "colab_type": "code",
        "colab": {}
      },
      "cell_type": "code",
      "source": [
        "mydf.to_csv(\"co2emissions_cleaned.csv\", index = False) #See Recent Data for exported csv"
      ],
      "execution_count": 0,
      "outputs": []
    },
    {
      "metadata": {
        "id": "0GKEnlSZDWGK",
        "colab_type": "text"
      },
      "cell_type": "markdown",
      "source": [
        "## Want to learn more?\n",
        "\n",
        "You can take free [Python 101](https://cocl.us/DX0108EN_PY0101EN) or [Data Analysis with Python](https://cocl.us/DX0108EN_DA0101EN) courses.  \n",
        "\n",
        "Also, you can use Data Science Experience to run these notebooks faster with bigger datasets. Data Science Experience is IBM's leading cloud solution for data scientists, built by data scientists. With Jupyter notebooks, RStudio, Apache Spark and popular libraries pre-packaged in the cloud, DSX enables data scientists to collaborate on their projects without having to install anything. Join the fast-growing community of DSX users today with a free account at [Data Science Experience](https://cocl.us/DX0108EN_DSX). "
      ]
    },
    {
      "metadata": {
        "id": "3k7MCbT_DWGN",
        "colab_type": "text"
      },
      "cell_type": "markdown",
      "source": [
        "<hr>\n",
        "Copyright &copy; 2017 [Cognitive Class](https://cognitiveclass.ai/?utm_source=cccopyrightlink&utm_medium=cclabs). This notebook and its source code are released under the terms of the [MIT License](https://cognitiveclass.ai/mit-license/)."
      ]
    },
    {
      "metadata": {
        "collapsed": true,
        "id": "g7GRzcOyDWGO",
        "colab_type": "text"
      },
      "cell_type": "markdown",
      "source": [
        "\n",
        "<h3>Authors:</h3>\n",
        "<article class=\"teacher\">\n",
        "<div class=\"teacher-image\" style=\"    float: left;\n",
        "    width: 115px;\n",
        "    height: 115px;\n",
        "    margin-right: 10px;\n",
        "    margin-bottom: 10px;\n",
        "    border: 1px solid #CCC;\n",
        "    padding: 3px;\n",
        "    border-radius: 3px;\n",
        "    text-align: center;\"><img class=\"alignnone wp-image-2258 \" src=\"https://ibm.box.com/shared/static/tyd41rlrnmfrrk78jx521eb73fljwvv0.jpg\" alt=\"Saeed Aghabozorgi\" width=\"178\" height=\"178\" /></div>\n",
        "<h4>Saeed Aghabozorgi</h4>\n",
        "<p><a href=\"https://ca.linkedin.com/in/saeedaghabozorgi\">Saeed Aghabozorgi</a>, PhD is a Data Scientist in IBM with a track record of developing enterprise level applications that substantially increases clients’ ability to turn data into actionable knowledge. He is a researcher in data mining field and expert in developing advanced analytic methods like machine learning and statistical modelling on large datasets.</p>\n",
        "</article>\n",
        "<br>\n",
        "<article class=\"teacher\">\n",
        "<div class=\"teacher-image\" style=\"    float: left;\n",
        "    width: 115px;\n",
        "    height: 115px;\n",
        "    margin-right: 10px;\n",
        "    margin-bottom: 10px;\n",
        "    border: 1px solid #CCC;\n",
        "    padding: 3px;\n",
        "    border-radius: 3px;\n",
        "    text-align: center;\"><img class=\"alignnone size-medium wp-image-2177\" src=\"https://ibm.box.com/shared/static/2ygdi03ahcr97df2ofrr6cf8knq4kodd.jpg\" alt=\"Polong Lin\" width=\"300\" height=\"300\" /></div>\n",
        "<h4>Polong Lin</h4>\n",
        "<p>\n",
        "<a href=\"https://ca.linkedin.com/in/polonglin\">Polong Lin</a> is a Data Scientist and Lead Data Science Advocate at IBM. Polong is a regular speaker in conferences and meetups where he teaches data science. Polong holds a M.Sc. in Cognitive Psychology.</p>\n",
        "</article>"
      ]
    }
  ]
}