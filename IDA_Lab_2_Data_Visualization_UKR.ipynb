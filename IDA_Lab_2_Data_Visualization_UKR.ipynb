{
  "nbformat": 4,
  "nbformat_minor": 0,
  "metadata": {
    "colab": {
      "name": "Copy of DX0108EN-LabUKR-_Data_Visualization (1).ipynb",
      "version": "0.3.2",
      "provenance": [],
      "collapsed_sections": [
        "Io0lFR4pFhQN",
        "_yDQHRiYFhQe",
        "CbUopfT7FhQi",
        "-Hr4m952FhQw",
        "3nBVmRfuFhRM",
        "t9eKP2hSFhRi",
        "fQEJGC3aFhR8",
        "pgGWndrfFhSH",
        "wOF2pOT_FhSP",
        "OiMy3ACOFhSZ",
        "5t62bQtzFhSg",
        "VwnjRC-WFhSo"
      ],
      "include_colab_link": true
    },
    "kernelspec": {
      "display_name": "Python 2",
      "language": "python",
      "name": "python2"
    }
  },
  "cells": [
    {
      "cell_type": "markdown",
      "metadata": {
        "id": "view-in-github",
        "colab_type": "text"
      },
      "source": [
        "<a href=\"https://colab.research.google.com/github/AnastasiyaKS/IDA-labs-RU/blob/master/IDA_Lab_2_Data_Visualization_UKR.ipynb\" target=\"_parent\"><img src=\"https://colab.research.google.com/assets/colab-badge.svg\" alt=\"Open In Colab\"/></a>"
      ]
    },
    {
      "metadata": {
        "id": "KUau1_XzFhNO",
        "colab_type": "text"
      },
      "cell_type": "markdown",
      "source": [
        "\n",
        "<h1 align=center><font size = 5>DATA VISUALIZATION I</font></h1>\n",
        "<br>\n",
        "<h2 align=center>Чому вмирають люди в Об'єднаних Штатах Америки? Візуалізація даних про смертність</h2>"
      ]
    },
    {
      "metadata": {
        "id": "JE3NxxCFFhNQ",
        "colab_type": "text"
      },
      "cell_type": "markdown",
      "source": [
        "1. [ Як вмирають люди в Об'єднаних Штатах? Візуалізація даних про смертність в USA](#top)\n",
        "1. [бібліотека matplotlib ](#mpl)\n",
        "1. [Отримання даних](#getdata)\n",
        "1. [Розуміння даних](#understand)\n",
        "1. [Кількість смертей : на рік](#year)\n",
        "1. [Кількість смертей : Чоловіки та жінки](#gender)\n",
        "1. [Кількість смертей : За віком](#age)\n",
        "1. [Кількість смертей : За віком та статтю](#ageXgender)\n",
        "1. [Топ 10 причин смерті в 2015](#causeX2015)\n",
        "1. [оп 10  причин смерті на рік](#causeXyear)\n",
        "1. [Причини смерті за статтю](#causeXgender)\n",
        "1. [Причини смерті за віком](#causeXage)\n",
        "1. [Причини смерті за віком та статтю](#causeXgenderXage)"
      ]
    },
    {
      "metadata": {
        "id": "Wjm6IhgDFhNS",
        "colab_type": "text"
      },
      "cell_type": "markdown",
      "source": [
        "# Як вмирають люди в Об'єднаних Штатах? Візуалізація даних про смертність"
      ]
    },
    {
      "metadata": {
        "id": "TrnfFO8oFhNU",
        "colab_type": "text"
      },
      "cell_type": "markdown",
      "source": [
        "** Смерть ** - це  досить важка тема, але дані про смертність важливі для уряду, для охорони здоров'я, економіки та, звичайно ж, медичних наук. Розуміння причин смертності може призвести до змін фінансування досліджень за певними захворюваннями або збільшення профілактичних заходів, якщо виявлено, що певні групи людей знаходяться у зоні ризику.\n",
        "\n",
        "У США ** Центри контролю і профілактики захворювань (CDC) ** збирають [дані про смертність] (https://wonder.cdc.gov/ucd-icd10.html) з 1999 по 2015 рр. Дані включають демографічну інформацію, включаючи вік смерті, основну причину смерті, стать та навіть расу та географічне положення: місто / округ.\n",
        "\n",
        "Питання, які виникають в першу чергу:\n",
        "- Які основні причини смерті в Сполучених Штатах?\n",
        "- Чи чоловіки частіше вмирають, ніж жінки? Чи залежить це від причини смерті? Чи залежить це від віку?\n",
        "- Які причини смерті стають більш або менш поширені з плином часу?"
      ]
    },
    {
      "metadata": {
        "id": "N9uxmQyVFhNW",
        "colab_type": "text"
      },
      "cell_type": "markdown",
      "source": [
        "#### Візуалізація даних"
      ]
    },
    {
      "metadata": {
        "id": "cwXqjnC2FhNY",
        "colab_type": "text"
      },
      "cell_type": "markdown",
      "source": [
        "У цьому ноутбуці вам буде запропоновано ** matplotlib **, один з найпопулярніших пакетів візуалізації даних у Python.\n",
        "\n",
        "Є багато різних способів використання matplotlib, але цей ноутбук просто продемонструє основи. Якщо ви хочете продовжити та дізнатися більше про matplotlib, перегляньте документацію [тут] (http://matplotlib.org/)."
      ]
    },
    {
      "metadata": {
        "id": "FmGPinbKFhNZ",
        "colab_type": "text"
      },
      "cell_type": "markdown",
      "source": [
        "<a id=\"mpl\"></a>\n",
        " Імпортуйте  бібліотеку `matplotlib` "
      ]
    },
    {
      "metadata": {
        "id": "alOuYxPlFhNb",
        "colab_type": "text"
      },
      "cell_type": "markdown",
      "source": [
        "Для початку впевнимося, що імпортовано бібліотеки, необхідні для візуалізації графіків"
      ]
    },
    {
      "metadata": {
        "id": "2nGIvB_YFhNc",
        "colab_type": "code",
        "colab": {}
      },
      "cell_type": "code",
      "source": [
        "import pandas as pd\n",
        "import matplotlib.pyplot as plt\n",
        " \n",
        "#Цей код необхідний, щоб графіки могли бути візуалізовані в ноутбуках\n",
        "%matplotlib inline \n",
        "\n",
        "#Дозволити кодування спеціальних символів (українською мовою)\n",
        "import sys\n",
        "reload(sys) \n",
        "sys.setdefaultencoding('GBK') #warning may display but is OK"
      ],
      "execution_count": 0,
      "outputs": []
    },
    {
      "metadata": {
        "id": "SzonVBBTFhNj",
        "colab_type": "text"
      },
      "cell_type": "markdown",
      "source": [
        "<a id=\"getdata\"></a>\n",
        "## Отримання даних"
      ]
    },
    {
      "metadata": {
        "id": "AMLCHsVrFhNl",
        "colab_type": "text"
      },
      "cell_type": "markdown",
      "source": [
        "Зантажимо файл deaths.csv"
      ]
    },
    {
      "metadata": {
        "id": "m8jcTkBvFhNn",
        "colab_type": "code",
        "colab": {}
      },
      "cell_type": "code",
      "source": [
        "!wget --output-document deaths-ukr.csv https://ibm.box.com/shared/static/b2p1qr55h9ihn37szn68xi2z2a4q23om.csv"
      ],
      "execution_count": 0,
      "outputs": []
    },
    {
      "metadata": {
        "id": "61Yndlg3FhNs",
        "colab_type": "text"
      },
      "cell_type": "markdown",
      "source": [
        "Тепер, коли він знаходиться у вашому обліковому записі, ви можете прочитати його з файлового шляху deaths-ukr.csv:"
      ]
    },
    {
      "metadata": {
        "id": "Ku7hmsH1FhNu",
        "colab_type": "code",
        "colab": {}
      },
      "cell_type": "code",
      "source": [
        "# Спробуй себе - введи код\n",
        "\n",
        "\n",
        "df = "
      ],
      "execution_count": 0,
      "outputs": []
    },
    {
      "metadata": {
        "id": "rtNwO0IfFhNy",
        "colab_type": "text"
      },
      "cell_type": "markdown",
      "source": [
        "Чудово! Тепер дані доступні в змінній **`df`**"
      ]
    },
    {
      "metadata": {
        "id": "ZRmRoExmFhN0",
        "colab_type": "text"
      },
      "cell_type": "markdown",
      "source": [
        "<a id=\"understand\"></a>\n",
        "##Розуміння даних"
      ]
    },
    {
      "metadata": {
        "id": "kYofBwsXFhN1",
        "colab_type": "text"
      },
      "cell_type": "markdown",
      "source": [
        "#### <font color =red> Перші 10 рядків таблиці"
      ]
    },
    {
      "metadata": {
        "id": "prKoLvH6FhN4",
        "colab_type": "code",
        "colab": {}
      },
      "cell_type": "code",
      "source": [
        "df.head(10)"
      ],
      "execution_count": 0,
      "outputs": []
    },
    {
      "metadata": {
        "id": "-2Xm4P_4FhOD",
        "colab_type": "text"
      },
      "cell_type": "markdown",
      "source": [
        "#### <font color = red> Останні 5 рядків таблиці"
      ]
    },
    {
      "metadata": {
        "id": "IjtvIB_4FhOG",
        "colab_type": "code",
        "colab": {}
      },
      "cell_type": "code",
      "source": [
        "df.tail(5)"
      ],
      "execution_count": 0,
      "outputs": []
    },
    {
      "metadata": {
        "id": "TBYJrZKuFhOL",
        "colab_type": "text"
      },
      "cell_type": "markdown",
      "source": [
        "#### <font color = red> Який діапазон значень для стовпця \"Вік\"?\n",
        "\n",
        "Підказка: отримати стовпець \"Age\", потім використайте describe()"
      ]
    },
    {
      "metadata": {
        "id": "xP_Vyho7FhON",
        "colab_type": "code",
        "colab": {}
      },
      "cell_type": "code",
      "source": [
        ""
      ],
      "execution_count": 0,
      "outputs": []
    },
    {
      "metadata": {
        "id": "X2JLvuW0FhOZ",
        "colab_type": "text"
      },
      "cell_type": "markdown",
      "source": [
        "#### <font color = red> Які роки включені в цей набір даних? Спробуйте використовувати  функцію unique()"
      ]
    },
    {
      "metadata": {
        "id": "-Y0gLPg7FhOh",
        "colab_type": "code",
        "colab": {}
      },
      "cell_type": "code",
      "source": [
        ""
      ],
      "execution_count": 0,
      "outputs": []
    },
    {
      "metadata": {
        "id": "9-XCiUbvFhOn",
        "colab_type": "text"
      },
      "cell_type": "markdown",
      "source": [
        "#### <font color = red> Підсумуйте статистику за смертю"
      ]
    },
    {
      "metadata": {
        "id": "itOtacSmFhOp",
        "colab_type": "code",
        "colab": {}
      },
      "cell_type": "code",
      "source": [
        "df.groupby(['Year']).Deaths.sum().plot(kind = \"bar\")"
      ],
      "execution_count": 0,
      "outputs": []
    },
    {
      "metadata": {
        "id": "0YRH7n7WFhOz",
        "colab_type": "text"
      },
      "cell_type": "markdown",
      "source": [
        "#### Які причини смертей в цьому наборі даних?"
      ]
    },
    {
      "metadata": {
        "id": "cl3rjMm4FhO3",
        "colab_type": "text"
      },
      "cell_type": "markdown",
      "source": [
        "<font color=blue>!! Кожного разу, коли ви бачите 'Cause', ви можете замінити його 'CauseUKR', щоб показати його українською мовою"
      ]
    },
    {
      "metadata": {
        "id": "Da7IGlkvFhO5",
        "colab_type": "code",
        "colab": {}
      },
      "cell_type": "code",
      "source": [
        ""
      ],
      "execution_count": 0,
      "outputs": []
    },
    {
      "metadata": {
        "id": "A6LTS64uFhPG",
        "colab_type": "code",
        "colab": {}
      },
      "cell_type": "code",
      "source": [
        "#causes = df.sort_values(['Cause']) \n",
        "causes = df.sort_values(['CauseUKR'])\n",
        "causes.index=range(0, len(causes)) #re-index the row numbers\n",
        "causes\n"
      ],
      "execution_count": 0,
      "outputs": []
    },
    {
      "metadata": {
        "id": "XSWOxBEMFhPM",
        "colab_type": "text"
      },
      "cell_type": "markdown",
      "source": [
        "<a id=\"year\"></a>\n",
        "## Кількість смертей : на рік"
      ]
    },
    {
      "metadata": {
        "id": "UyLBGno3FhPO",
        "colab_type": "text"
      },
      "cell_type": "markdown",
      "source": [
        "#### Подивимось на дані:"
      ]
    },
    {
      "metadata": {
        "id": "by5k1Kt2FhPQ",
        "colab_type": "code",
        "colab": {}
      },
      "cell_type": "code",
      "source": [
        "df.head(3)"
      ],
      "execution_count": 0,
      "outputs": []
    },
    {
      "metadata": {
        "id": "NsssAzuDFhPX",
        "colab_type": "text"
      },
      "cell_type": "markdown",
      "source": [
        "#### Скільки смертей в цілому в 2005, 2010 та 2015 роках?"
      ]
    },
    {
      "metadata": {
        "id": "JKgW2lb3FhPY",
        "colab_type": "text"
      },
      "cell_type": "markdown",
      "source": [
        "По-перше, необхідно ** згрупувати дані за рік **, потім, вказавши стовпець ** Deaths **, ми можемо обчислити ** суми смертей на рік **:"
      ]
    },
    {
      "metadata": {
        "id": "ar858clfFhPa",
        "colab_type": "code",
        "colab": {}
      },
      "cell_type": "code",
      "source": [
        "by_year = df.groupby(\"Year\").Deaths.sum()\n",
        "by_year"
      ],
      "execution_count": 0,
      "outputs": []
    },
    {
      "metadata": {
        "id": "sYN5ryeuFhPf",
        "colab_type": "text"
      },
      "cell_type": "markdown",
      "source": [
        "Після того, як ви набрали дані, будувати графіки легко. З ** `.plot()` ** вам просто потрібно вибрати вид графіка:"
      ]
    },
    {
      "metadata": {
        "scrolled": true,
        "id": "l7g_kO1cFhPh",
        "colab_type": "code",
        "colab": {}
      },
      "cell_type": "code",
      "source": [
        ""
      ],
      "execution_count": 0,
      "outputs": []
    },
    {
      "metadata": {
        "id": "hQINV9YgFhPp",
        "colab_type": "text"
      },
      "cell_type": "markdown",
      "source": [
        "#### Ми можемо переписати код, щоб було легше розуміти послідовність дій:"
      ]
    },
    {
      "metadata": {
        "id": "Pbjb9a6xFhPq",
        "colab_type": "code",
        "colab": {}
      },
      "cell_type": "code",
      "source": [
        "# Змінюємо синтаксис на більш читаємий. знак  \"\\\" вказує, що необхідно перейти на наступний рядок коду перед тим як виконувати його\n",
        "df.groupby(\"Year\")\\\n",
        ".Deaths\\\n",
        ".sum()\\\n",
        ".plot(kind = \"bar\")"
      ],
      "execution_count": 0,
      "outputs": []
    },
    {
      "metadata": {
        "id": "XVuZaBipFhP1",
        "colab_type": "text"
      },
      "cell_type": "markdown",
      "source": [
        "## Розділимо дані на окремі роки"
      ]
    },
    {
      "metadata": {
        "id": "L4u40BcsFhP2",
        "colab_type": "text"
      },
      "cell_type": "markdown",
      "source": [
        "Може бути не дуже зрозуміло, якщо ми будемо весь час працювати з даними одразу за 2005, 2010 та 2015 роки.\n",
        "  \n",
        "Давайте подивимось лише на дані про ** смерті у 2015 році **."
      ]
    },
    {
      "metadata": {
        "id": "r0iCUpZgKz4M",
        "colab_type": "code",
        "colab": {}
      },
      "cell_type": "code",
      "source": [
        "df[df.Year == 2015].groupby(\"Cause\").Deaths\\\n",
        ".sum()\\\n",
        ".plot(kind = \"bar\")"
      ],
      "execution_count": 0,
      "outputs": []
    },
    {
      "metadata": {
        "id": "DQgUTlz_FhP3",
        "colab_type": "text"
      },
      "cell_type": "markdown",
      "source": [
        "<a id=\"gender\"></a>\n",
        "## Кількість смертей : чоловіки та жінки"
      ]
    },
    {
      "metadata": {
        "id": "5OFXlbKNFhP5",
        "colab_type": "text"
      },
      "cell_type": "markdown",
      "source": [
        "У 2015 році, який гендер має вищий рівень смертності?"
      ]
    },
    {
      "metadata": {
        "id": "0FH9lqk7FhP6",
        "colab_type": "code",
        "colab": {}
      },
      "cell_type": "code",
      "source": [
        "df2015 = df[df.Year == 2015]\n",
        "\n",
        "df2015\\\n",
        ".groupby(\"Gender\")\\\n",
        ".Deaths\\\n",
        ".sum()"
      ],
      "execution_count": 0,
      "outputs": []
    },
    {
      "metadata": {
        "id": "3jgyR-SbFhQA",
        "colab_type": "text"
      },
      "cell_type": "markdown",
      "source": [
        "### <font color=\"red\"> Вправа: чи можете ви створити простий гістограму, щоб порівняти загальну кількість смертей для кожного гендеру? </font>\n",
        "\n",
        "Пам'ятайте, використовуючи дані ** 2015 (`df2015`) **, спочатку ** group by `Gender`**, потім ** виберіть колонку `Deaths` **, обчисліть **` sum` **, потім ** plot as a `bar` chart**."
      ]
    },
    {
      "metadata": {
        "id": "os-5d0gCFhQC",
        "colab_type": "code",
        "colab": {}
      },
      "cell_type": "code",
      "source": [
        ""
      ],
      "execution_count": 0,
      "outputs": []
    },
    {
      "metadata": {
        "id": "yx9w9U-uFhQG",
        "colab_type": "text"
      },
      "cell_type": "markdown",
      "source": [
        "Додамо **колір** до графіка: <font color = red> Червоний </font> для ** Female ** і <font color = blue> Синій </font> для ** Male **.\n",
        "\n",
        "Синтаксис:\n",
        "> `.plot(kind = \"bar\", ` **`color = [\"red\", \"blue\"]`**`)`"
      ]
    },
    {
      "metadata": {
        "id": "ia8cQMRtFhQH",
        "colab_type": "code",
        "colab": {}
      },
      "cell_type": "code",
      "source": [
        ""
      ],
      "execution_count": 0,
      "outputs": []
    },
    {
      "metadata": {
        "id": "Io0lFR4pFhQN",
        "colab_type": "text"
      },
      "cell_type": "markdown",
      "source": [
        "<a id=\"age\"></a>\n",
        "## Кількість смертей : За віком"
      ]
    },
    {
      "metadata": {
        "id": "6qeumCQnFhQO",
        "colab_type": "text"
      },
      "cell_type": "markdown",
      "source": [
        "У якому віці люди вмирають у 2015 році?"
      ]
    },
    {
      "metadata": {
        "id": "7LWEYJpmFhQP",
        "colab_type": "code",
        "colab": {}
      },
      "cell_type": "code",
      "source": [
        "df2015\\\n",
        ".groupby(\"Age\")\\\n",
        ".Deaths\\\n",
        ".sum()\\\n",
        ".plot(kind = \"bar\", color = \"grey\")"
      ],
      "execution_count": 0,
      "outputs": []
    },
    {
      "metadata": {
        "id": "wmYM7zw1FhQV",
        "colab_type": "text"
      },
      "cell_type": "markdown",
      "source": [
        "Графік вище важко прочитати - занадто малий масштаб!\n",
        "\n",
        "Ми можемо збільшити розмір фігури за допомогою:\n",
        "> `.plot(kind = \"bar\",`** figsize = [18,6]**`)`"
      ]
    },
    {
      "metadata": {
        "id": "e0kgAZstFhQW",
        "colab_type": "code",
        "colab": {}
      },
      "cell_type": "code",
      "source": [
        "df2015\\\n",
        ".groupby(\"Age\")\\\n",
        ".Deaths\\\n",
        ".sum()\\\n",
        ".plot(kind = \"bar\", color = \"grey\", figsize = [18,6])"
      ],
      "execution_count": 0,
      "outputs": []
    },
    {
      "metadata": {
        "id": "MrOoHg1ZFhQa",
        "colab_type": "text"
      },
      "cell_type": "markdown",
      "source": [
        "<font color=\"green\">  Обговорити: що ви помітили з наведеного вище графіка?</font>"
      ]
    },
    {
      "metadata": {
        "id": "_yDQHRiYFhQe",
        "colab_type": "text"
      },
      "cell_type": "markdown",
      "source": [
        "<a id=\"ageXgender\"></a>\n",
        "## Кількість смертей : За віком та статтю"
      ]
    },
    {
      "metadata": {
        "id": "CbUopfT7FhQi",
        "colab_type": "text"
      },
      "cell_type": "markdown",
      "source": [
        "#### Чи залежить вік смерті від статі?"
      ]
    },
    {
      "metadata": {
        "id": "CJkGQ3HhFhQk",
        "colab_type": "text"
      },
      "cell_type": "markdown",
      "source": [
        "Для групування даних, використовуючи **дві** змінні, просто використовуйте список (a list):\n",
        "> `.groupby(`**`[\"Age\", \"Gender\"]`**`)`"
      ]
    },
    {
      "metadata": {
        "id": "Tb5M4GjTFhQm",
        "colab_type": "code",
        "colab": {}
      },
      "cell_type": "code",
      "source": [
        ""
      ],
      "execution_count": 0,
      "outputs": []
    },
    {
      "metadata": {
        "id": "-Hr4m952FhQw",
        "colab_type": "text"
      },
      "cell_type": "markdown",
      "source": [
        "#### Створімо два підграфіка - для жінок та чоловіків за віком.\n",
        "\n",
        "Ми можемо створювати subplots за допомогою:  \n",
        "> ...  \n",
        "> **`.unstack(1)`**`\\`  \n",
        "> `.plot(kind = \"bar\", ` **` subplots = True`**`)`"
      ]
    },
    {
      "metadata": {
        "id": "zCjU7hL1FhQw",
        "colab_type": "code",
        "colab": {}
      },
      "cell_type": "code",
      "source": [
        ""
      ],
      "execution_count": 0,
      "outputs": []
    },
    {
      "metadata": {
        "id": "Kbaf_3-QFhQ4",
        "colab_type": "code",
        "colab": {}
      },
      "cell_type": "code",
      "source": [
        "unstack?"
      ],
      "execution_count": 0,
      "outputs": []
    },
    {
      "metadata": {
        "id": "svJxTdGlFhQ9",
        "colab_type": "text"
      },
      "cell_type": "markdown",
      "source": [
        "<font color=\"green\"> Що ви помітили з наведеного вище графіка?</font>"
      ]
    },
    {
      "metadata": {
        "id": "iuChf-BAFhRC",
        "colab_type": "text"
      },
      "cell_type": "markdown",
      "source": [
        "Ми можемо також об'єднати (**stack**) чоловіків і жінок разом, щоб сформувати загальний графік.\n",
        "\n",
        "Для створення загального графіку ми можемо використовувати:  \n",
        ">`.plot(kind = \"bar\", ` **`stacked = True`**`)`"
      ]
    },
    {
      "metadata": {
        "id": "X842CWm3FhRE",
        "colab_type": "code",
        "colab": {}
      },
      "cell_type": "code",
      "source": [
        ""
      ],
      "execution_count": 0,
      "outputs": []
    },
    {
      "metadata": {
        "id": "a1ClHIUnFhRK",
        "colab_type": "text"
      },
      "cell_type": "markdown",
      "source": [
        "Але це не дуже допомогає, оскільки порівняти чоловіків і жінок на такому графіку непросто. "
      ]
    },
    {
      "metadata": {
        "id": "3nBVmRfuFhRM",
        "colab_type": "text"
      },
      "cell_type": "markdown",
      "source": [
        "####  Оскільки Вік є безперервною змінною, це може допомогти порівняти лінії на лінійному графіку.\n",
        "\n",
        "\n",
        "Ми можемо створювати графіки з використанням:  \n",
        "> `.plot(kind = \"`**`line`**`\")`"
      ]
    },
    {
      "metadata": {
        "id": "EqzH9vSTFhRN",
        "colab_type": "code",
        "colab": {}
      },
      "cell_type": "code",
      "source": [
        "#(kind = \"line\", figsize = [18,10], subplots = True)"
      ],
      "execution_count": 0,
      "outputs": []
    },
    {
      "metadata": {
        "id": "mjC_jPZpFhRT",
        "colab_type": "text"
      },
      "cell_type": "markdown",
      "source": [
        "Тепер за допомогою простого рядка ми полегшили порівняння гендерної різниці за віком на лінійному графіку ( **one line graph**.).  \n",
        "\n",
        " Щоб відобразити декілька груп на тому ж графіку, переконайтеся, що у вас є невстановлені дані (**unstacked the data**) і вони зберігаються як підменю за умовчанням (**kept subplots as False (default)**):\n",
        ">`...`  \n",
        ">**`.unstack(1)`**`\\`  \n",
        ">`.plot(kind = \"line\")   #Default: subplots = False`"
      ]
    },
    {
      "metadata": {
        "id": "mRga5NvmFhRU",
        "colab_type": "code",
        "colab": {}
      },
      "cell_type": "code",
      "source": [
        ""
      ],
      "execution_count": 0,
      "outputs": []
    },
    {
      "metadata": {
        "id": "4xpG13SQFhRY",
        "colab_type": "text"
      },
      "cell_type": "markdown",
      "source": [
        "Додамо основний заголовок та мітку Y-осі:\n",
        "\n",
        "> `.plot(kind = \"line\",` **`title = \"Deaths in 2015 by Age and Gender\"`**`)`\n"
      ]
    },
    {
      "metadata": {
        "id": "_EsY6CQgFhRZ",
        "colab_type": "code",
        "colab": {}
      },
      "cell_type": "code",
      "source": [
        ""
      ],
      "execution_count": 0,
      "outputs": []
    },
    {
      "metadata": {
        "id": "t9eKP2hSFhRi",
        "colab_type": "text"
      },
      "cell_type": "markdown",
      "source": [
        "<a id=\"causeX2015\"></a>\n",
        "## Deaths: Top Causes of Death in 2015 // Топ 10 найпопулярніших причин смерті в 2015"
      ]
    },
    {
      "metadata": {
        "id": "bCqX8jG1FhRj",
        "colab_type": "text"
      },
      "cell_type": "markdown",
      "source": [
        "Подивимось на причини смертей в  2015:"
      ]
    },
    {
      "metadata": {
        "scrolled": false,
        "id": "Cb_S88H_FhRl",
        "colab_type": "code",
        "colab": {}
      },
      "cell_type": "code",
      "source": [
        "df2015\\\n",
        ".groupby([\"Cause\"])\\\n",
        ".Deaths\\\n",
        ".sum()\\\n",
        ".plot(kind = \"bar\", color = \"black\")"
      ],
      "execution_count": 0,
      "outputs": []
    },
    {
      "metadata": {
        "id": "SS4l6XOuFhRu",
        "colab_type": "text"
      },
      "cell_type": "markdown",
      "source": [
        "Це дуже важко прочитати. Нам потрібно сортувати дані та повернути графік (горизонтальна стрічкова діаграма) (**sort the data** and **rotate the graph (horizontal bar chart)**).\n",
        "\n",
        "1. Ми можемо ** сортувати ** дані, використовуючи:\n",
        "> **`.sort('Deaths', ascending = True)`**\n",
        "\n",
        "2. Ми можемо створити ** горизонтальну стрічкову діаграму **, використовуючи:\n",
        "> **`.plot(kind = \"barh\")`**"
      ]
    },
    {
      "metadata": {
        "id": "ddrYnUrQFhRv",
        "colab_type": "code",
        "colab": {}
      },
      "cell_type": "code",
      "source": [
        "df2015\\\n",
        ".groupby([\"Cause\"])\\\n",
        ".agg({'Deaths' : sum})\\\n",
        ".sort_values('Deaths', ascending = True)\\\n",
        ".plot(kind = \"barh\", legend = False, color = \"black\", figsize = [10,8])"
      ],
      "execution_count": 0,
      "outputs": []
    },
    {
      "metadata": {
        "id": "fQEJGC3aFhR8",
        "colab_type": "text"
      },
      "cell_type": "markdown",
      "source": [
        "####  Давайте подивимося на 10 найпоширеніших причин смерті.\n",
        "\n",
        "Щоб отримати Top 10, перед тим, як ми можемо використовувати графік:\n",
        ">`.sort('Deaths', ascending = True)`**`[-10:]`**`\\`\n",
        "\n",
        "Пам'ятайте: `[-10 ,:]` означає, що потрібно отримати елементи з 10-го з кінця елемента, до останнього пункту."
      ]
    },
    {
      "metadata": {
        "id": "1lWRNrsPFhSA",
        "colab_type": "code",
        "colab": {}
      },
      "cell_type": "code",
      "source": [
        "df2015\\\n",
        ".groupby([\"CauseUKR\"])\\\n",
        ".agg({'Deaths' : sum})\\\n",
        ".sort_values('Deaths')[-10:]\\\n",
        ".plot(kind = \"barh\", legend = False, color = \"black\", figsize = [10,8], title = \"2015 Top 10 Causes of Death in USA\")"
      ],
      "execution_count": 0,
      "outputs": []
    },
    {
      "metadata": {
        "id": "pgGWndrfFhSH",
        "colab_type": "text"
      },
      "cell_type": "markdown",
      "source": [
        "<a id=\"causeXyear\"></a>\n",
        "#### Найпопулярніші причини смерті за роком:"
      ]
    },
    {
      "metadata": {
        "id": "xcy7KoVHFhSJ",
        "colab_type": "code",
        "colab": {}
      },
      "cell_type": "code",
      "source": [
        "df\\\n",
        ".groupby([\"Cause\",\"Year\"])\\\n",
        ".agg({'Deaths' : sum})\\\n",
        ".sort_values('Deaths', ascending = False)\\\n",
        ".unstack(1)\\\n",
        ".plot(kind = \"barh\", legend = True, figsize = [10,24])"
      ],
      "execution_count": 0,
      "outputs": []
    },
    {
      "metadata": {
        "id": "Weh30P6fFhSN",
        "colab_type": "text"
      },
      "cell_type": "markdown",
      "source": [
        "Наведена вище візуалізація містить багато інформації (можливо, забагато!). Але ви помітили?\n",
        "Смертність від ВІЛ-інфекції зменшується кожні п'ять років з 2005 року!"
      ]
    },
    {
      "metadata": {
        "id": "wOF2pOT_FhSP",
        "colab_type": "text"
      },
      "cell_type": "markdown",
      "source": [
        "<a id=\"causeXgender\"></a>\n",
        "## Причини смерті за статтю"
      ]
    },
    {
      "metadata": {
        "id": "HIJ2IdFCFhSP",
        "colab_type": "code",
        "colab": {}
      },
      "cell_type": "code",
      "source": [
        "df2015\\\n",
        ".sort_values('Deaths', ascending = False)\\\n",
        ".groupby([\"Cause\",\"Gender\"])\\\n",
        ".agg({'Deaths' : sum})\\\n",
        ".unstack(1)\\\n",
        ".plot(kind = \"barh\", color = [\"red\", \"blue\"], legend = True, figsize = [10,24])"
      ],
      "execution_count": 0,
      "outputs": []
    },
    {
      "metadata": {
        "id": "OiMy3ACOFhSZ",
        "colab_type": "text"
      },
      "cell_type": "markdown",
      "source": [
        "<a id=\"causeXage\"></a>\n",
        "## Причини смерті за віком"
      ]
    },
    {
      "metadata": {
        "id": "F1b_9rrjFhSa",
        "colab_type": "text"
      },
      "cell_type": "markdown",
      "source": [
        "Оскільки є так багато причин смерті, давайте виберемо лише кілька причин для візуалізації  смерті за віком:\n",
        "- \"Хвороба Альцгеймера\"  \n",
        "- \"Захворювання серця\"  \n",
        "- \"Злоякісні новоутворення\"  --> (Рак)\n",
        "- \"Аварії (ненавмисні пошкодження)\""
      ]
    },
    {
      "metadata": {
        "scrolled": true,
        "id": "XQK3S6b_FhSb",
        "colab_type": "code",
        "colab": {}
      },
      "cell_type": "code",
      "source": [
        "clist = [\"Alzheimer's disease\", \n",
        "         \"Diseases of heart\", \n",
        "         \"Malignant neoplasms\", \n",
        "         \"Accidents (unintentional injuries)\"]\n",
        "\n",
        "## get dataframe where \"Cause\" is in \"clist\" \n",
        "## Отримати інформаційний кадр, де \"Cuase\" перебуває в \"clist\"\n",
        "df2015_clist = df2015[df2015[\"Cause\"].isin(clist)] \n",
        "\n",
        "df2015_clist\\\n",
        ".groupby([\"Age\",\"Cause\"])\\\n",
        ".agg({'Deaths' : sum})\\\n",
        ".sort_values('Deaths', ascending = False)\\\n",
        ".unstack(1)\\\n",
        ".plot(kind = \"line\", legend = True, figsize = [10,6])"
      ],
      "execution_count": 0,
      "outputs": []
    },
    {
      "metadata": {
        "id": "F0_D6VozFhSg",
        "colab_type": "text"
      },
      "cell_type": "markdown",
      "source": [
        "<font color=\"green\"> Обговорити: що ви помітили з наведеного вище графіка?</font>"
      ]
    },
    {
      "metadata": {
        "id": "5t62bQtzFhSg",
        "colab_type": "text"
      },
      "cell_type": "markdown",
      "source": [
        "<a id=\"causeXgenderXage\"></a>\n",
        "## Причини смерті за віком та статтю"
      ]
    },
    {
      "metadata": {
        "id": "53hWQ2lOFhSi",
        "colab_type": "text"
      },
      "cell_type": "markdown",
      "source": [
        "Ця візуалізація особливо важка, тому що є 2 стани x 3 роки x 51 причини. Практично неможливо розмістити всі ці дані на одному графіку та полегшити його зрозуміння.\n",
        "Найкраще робити це - це візуалізувати деякі дані або найцікавіші дані."
      ]
    },
    {
      "metadata": {
        "scrolled": false,
        "id": "x60WMRyMFhSj",
        "colab_type": "code",
        "colab": {}
      },
      "cell_type": "code",
      "source": [
        "clist = df.Cause.unique()\n",
        "\n",
        "for cause in clist:\n",
        "    df2015_clist = df2015[df2015[\"Cause\"].isin([cause])]\n",
        "    \n",
        "    df2015_clist\\\n",
        "    .groupby([\"Age\",\"Gender\"])\\\n",
        "    .agg({'Deaths' : sum})\\\n",
        "    .unstack([1])\\\n",
        "    .plot(kind = \"line\", legend = True, color=('r','b'), figsize = [10,8], title = str(cause))"
      ],
      "execution_count": 0,
      "outputs": []
    },
    {
      "metadata": {
        "id": "acLvlB6GFhSn",
        "colab_type": "text"
      },
      "cell_type": "markdown",
      "source": [
        "<hr>"
      ]
    },
    {
      "metadata": {
        "id": "VwnjRC-WFhSo",
        "colab_type": "text"
      },
      "cell_type": "markdown",
      "source": [
        "## Want to learn more?\n",
        "\n",
        "You can take free [Python 101](https://cocl.us/DX0108EN_PY0101EN) or [Data Analysis with Python](https://cocl.us/DX0108EN_DA0101EN) or [Data Visualization with Python](https://cocl.us/DX0108EN_DV0101EN) courses.  \n",
        "\n",
        "Also, you can use Data Science Experience to run these notebooks faster with bigger datasets. Data Science Experience is IBM's leading cloud solution for data scientists, built by data scientists. With Jupyter notebooks, RStudio, Apache Spark and popular libraries pre-packaged in the cloud, DSX enables data scientists to collaborate on their projects without having to install anything. Join the fast-growing community of DSX users today with a free account at [Data Science Experience](https://cocl.us/DX0108EN_DSX). "
      ]
    },
    {
      "metadata": {
        "id": "suZnkkt7FhSp",
        "colab_type": "text"
      },
      "cell_type": "markdown",
      "source": [
        "<hr>\n",
        "Copyright &copy; 2017 [Cognitive Class](https://cognitiveclass.ai/?utm_source=cccopyrightlink&utm_medium=cclabs). This notebook and its source code are released under the terms of the [MIT License](https://cognitiveclass.ai/mit-license/)."
      ]
    },
    {
      "metadata": {
        "id": "3ilFbLqiFhSr",
        "colab_type": "text"
      },
      "cell_type": "markdown",
      "source": [
        "\n",
        "<h3>Authors:</h3>\n",
        "<article class=\"teacher\">\n",
        "<div class=\"teacher-image\" style=\"    float: left;\n",
        "    width: 115px;\n",
        "    height: 115px;\n",
        "    margin-right: 10px;\n",
        "    margin-bottom: 10px;\n",
        "    border: 1px solid #CCC;\n",
        "    padding: 3px;\n",
        "    border-radius: 3px;\n",
        "    text-align: center;\"><img class=\"alignnone wp-image-2258 \" src=\"https://ibm.box.com/shared/static/tyd41rlrnmfrrk78jx521eb73fljwvv0.jpg\" alt=\"Saeed Aghabozorgi\" width=\"178\" height=\"178\" /></div>\n",
        "<h4>Saeed Aghabozorgi</h4>\n",
        "<p><a href=\"https://ca.linkedin.com/in/saeedaghabozorgi\">Saeed Aghabozorgi</a>, PhD is a Data Scientist in IBM with a track record of developing enterprise level applications that substantially increases clients’ ability to turn data into actionable knowledge. He is a researcher in data mining field and expert in developing advanced analytic methods like machine learning and statistical modelling on large datasets.</p>\n",
        "</article>\n",
        "<br>\n",
        "<article class=\"teacher\">\n",
        "<div class=\"teacher-image\" style=\"    float: left;\n",
        "    width: 115px;\n",
        "    height: 115px;\n",
        "    margin-right: 10px;\n",
        "    margin-bottom: 10px;\n",
        "    border: 1px solid #CCC;\n",
        "    padding: 3px;\n",
        "    border-radius: 3px;\n",
        "    text-align: center;\"><img class=\"alignnone size-medium wp-image-2177\" src=\"https://ibm.box.com/shared/static/2ygdi03ahcr97df2ofrr6cf8knq4kodd.jpg\" alt=\"Polong Lin\" width=\"300\" height=\"300\" /></div>\n",
        "<h4>Polong Lin</h4>\n",
        "<p>\n",
        "<a href=\"https://ca.linkedin.com/in/polonglin\">Polong Lin</a> is a Data Scientist and Lead Data Science Advocate at IBM. Polong is a regular speaker in conferences and meetups where he teaches data science. Polong holds a M.Sc. in Cognitive Psychology.</p>\n",
        "</article>"
      ]
    }
  ]
}