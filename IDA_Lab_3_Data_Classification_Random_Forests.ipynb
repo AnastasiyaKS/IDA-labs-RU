{
  "nbformat": 4,
  "nbformat_minor": 0,
  "metadata": {
    "colab": {
      "name": "IDA_Lab_3_Data_Classification_Random-Forests.ipynb",
      "version": "0.3.2",
      "provenance": [],
      "include_colab_link": true
    },
    "kernelspec": {
      "display_name": "Python 2",
      "language": "python",
      "name": "python2"
    }
  },
  "cells": [
    {
      "cell_type": "markdown",
      "metadata": {
        "id": "view-in-github",
        "colab_type": "text"
      },
      "source": [
        "<a href=\"https://colab.research.google.com/github/AnastasiyaKS/IDA-labs-UA/blob/master/IDA_Lab_3_Data_Classification_Random_Forests.ipynb\" target=\"_parent\"><img src=\"https://colab.research.google.com/assets/colab-badge.svg\" alt=\"Open In Colab\"/></a>"
      ]
    },
    {
      "cell_type": "markdown",
      "metadata": {
        "id": "0-AX7f4STuyh",
        "colab_type": "text"
      },
      "source": [
        "# Методи машинного навчання"
      ]
    },
    {
      "cell_type": "markdown",
      "metadata": {
        "id": "E7AXeeIcT1Ez",
        "colab_type": "text"
      },
      "source": [
        "Класичне визначення машинного навчання звучить так (T. Mitchell \"Machine learning\", 1997):\n",
        "\n",
        "**кажуть, що комп'ютерна програма навчається при вирішенні якогось завдання з класу *T*, якщо її продуктивність, згідно метриці *P,* поліпшується при накопиченні досвіду *E*.**\n",
        "\n",
        "Далі в різних сценаріях під T, P, і E маються на увазі зовсім різні речі. \n",
        "\n",
        "Серед найпопулярніших завдань T в машинному навчанні:\n",
        "\n",
        " - **класифікація** - віднесення об'єкта до однієї з категорій на підставі його ознак\n",
        " - **регресія** - прогнозування кількісної ознаки об'єкта на підставі інших його ознак\n",
        " - **кластеризація** - розбиття множини об'єктів на групи на підставі ознак цих об'єктів так, щоб усередині груп об'єкти були схожі між собою, а поза однієї групи - менш схожі\n",
        " - **детекція аномалій** - пошук об'єктів, \"сильно несхожих\" на всі інші в вибірці або на якусь групу об'єктів\n",
        " - і багато інших, більш специфічних. Хороший огляд дано у розділі \"Machine Learning basics\" книги \"Deep Learning\" (Ian Goodfellow, Yoshua Bengio, Aaron Courville, 2016)\n",
        "\n",
        "Під **досвідом E** розуміються **дані** (без них нікуди), і в залежності від цього алгоритми машинного навчання можуть бути поділені на ті, що навчаються **з учителем** і **без вчителя** (supervised & unsupervised learning). \n",
        "У завданнях навчання **без вчителя** є вибірка, що складається з об'єктів, що описуються набором ознак. \n",
        "У завданнях навчання **з учителем** на додачу до цього для кожного об'єкта деякої вибірки, званої навчальної, відомий цільової ознака - по суті це те, що хотілося б прогнозувати для інших об'єктів, не з навчальної вибірки.\n",
        "\n",
        "Завдання **класифікації і регресії**- це завдання навчання **з учителем**\n"
      ]
    },
    {
      "cell_type": "markdown",
      "metadata": {
        "id": "hARHJg5TTgNe",
        "colab_type": "text"
      },
      "source": [
        "# Дерева Рішень (Decision Trees)"
      ]
    },
    {
      "cell_type": "markdown",
      "metadata": {
        "id": "N7hCEaVJUEwY",
        "colab_type": "text"
      },
      "source": [
        "\n",
        "Почнемо огляд методів класифікації і регресії з одного з найпопулярніших - з дерева рішень. \n",
        "\n",
        "**Деревом рішень** можна назвати наочну інструкцію, що робити в якій ситуації. Це спосіб представлення правил в ієрархічній, послідовної структурі, де кожному об'єкту відповідає єдиний вузол, що дає рішення.\n",
        "Під правилом розуміється логічна конструкція, представлена у вигляді \"якщо ... то ...\".\n",
        "\n",
        "Найчастіше дерево рішень служить узагальненням досвіду експертів, засобом передачі знань майбутнім співробітникам або моделлю бізнес-процесу компанії. Наприклад, до впровадження масштабованих алгоритмів машинного навчання в банківській сфері завдання кредитного скорингу вирішувалася експертами. Рішення про видачу кредиту позичальникові приймалося на основі деяких інтуїтивно (або з досвіду) виведених правил, які можна представити у вигляді дерева рішень:\n",
        "\n",
        "![alt text](https://basegroup.ru/sites/default/files/treegraph.gif)\n",
        "\n",
        "В цьому випадку можна сказати, що вирішується завдання бінарної класифікації (цільової клас має два значення: \"Видати кредит\" і \"Відмовити\") за ознаками \"Вік\", \"Наявність будинку\", \"Дохід\" і \"Освіта\"."
      ]
    },
    {
      "cell_type": "markdown",
      "metadata": {
        "button": false,
        "new_sheet": false,
        "run_control": {
          "read_only": false
        },
        "id": "7A3sXU0ns0TH",
        "colab_type": "text"
      },
      "source": [
        "\n",
        "\n",
        "# Випадковий ліс (Random Forest)"
      ]
    },
    {
      "cell_type": "markdown",
      "metadata": {
        "button": false,
        "new_sheet": false,
        "run_control": {
          "read_only": false
        },
        "id": "jSRIjT0Gs0TK",
        "colab_type": "text"
      },
      "source": [
        "\n",
        "Порівняно з <b> деревом класифікації </b> (<b>Classification Tree</b>), <b> випадковий ліс </b>(<b>Random Forest</b>) зазвичай може зробити більш точний прогноз і в той же час має більш низький ступінь перенавчання.\n",
        "\n",
        "Надалі будемо використовувати набір даних <b> \"Пухлини\" </b> (\"Tumors\") як приклад для порівняння роботи цих двох методів."
      ]
    },
    {
      "cell_type": "markdown",
      "metadata": {
        "button": false,
        "new_sheet": false,
        "run_control": {
          "read_only": false
        },
        "id": "YWRDDOsHs0TK",
        "colab_type": "text"
      },
      "source": [
        "По-перше, імпортуємо необхідні бібліотеки: <b>\"Pandas\"</b> , <b>\"Numpy\"</b> .\n",
        "Та <b>\"matplotlib\"</b> для візуалізації даних."
      ]
    },
    {
      "cell_type": "markdown",
      "metadata": {
        "id": "BiuA27AmEoe0",
        "colab_type": "text"
      },
      "source": [
        "**pandas**  - це високорівнева Python бібліотека для аналізу даних. Побудована вона поверх більш низкорівневої бібліотеки NumPy (написана на С), що є великим плюсом в продуктивності."
      ]
    },
    {
      "cell_type": "code",
      "metadata": {
        "button": false,
        "new_sheet": false,
        "run_control": {
          "read_only": false
        },
        "id": "3Dgqfjm2s0TN",
        "colab_type": "code",
        "colab": {}
      },
      "source": [
        "import pandas as pd\n",
        "import numpy as np\n",
        "import matplotlib.pyplot as plt\n",
        "%matplotlib inline"
      ],
      "execution_count": 0,
      "outputs": []
    },
    {
      "cell_type": "markdown",
      "metadata": {
        "button": false,
        "new_sheet": false,
        "run_control": {
          "read_only": false
        },
        "id": "CBsH_WJgs0TT",
        "colab_type": "text"
      },
      "source": [
        "Потім ми імпортуємо набір даних  з адреси \"https://ibm.box.com/shared/static/095r9tb1uoelm4ugzjw4v65ksmqm9xj7.csv\", вкажіть, що в якості розділителя даних використовується кома (sep=',') формату csv як Dataframe, який називається \"df\".\n"
      ]
    },
    {
      "cell_type": "code",
      "metadata": {
        "button": false,
        "new_sheet": false,
        "run_control": {
          "read_only": false
        },
        "id": "h1MV5G80s0TV",
        "colab_type": "code",
        "colab": {}
      },
      "source": [
        "df =\n",
        "# your code here\n"
      ],
      "execution_count": 0,
      "outputs": []
    },
    {
      "cell_type": "markdown",
      "metadata": {
        "id": "DIualdThE__B",
        "colab_type": "text"
      },
      "source": [
        "Використовуйте функцію df.head () для перевірки перших 5 рядків і стовпців Dataframe."
      ]
    },
    {
      "cell_type": "code",
      "metadata": {
        "id": "wtmFtLCrFDoI",
        "colab_type": "code",
        "colab": {}
      },
      "source": [
        "# your code here"
      ],
      "execution_count": 0,
      "outputs": []
    },
    {
      "cell_type": "markdown",
      "metadata": {
        "button": false,
        "new_sheet": false,
        "run_control": {
          "read_only": false
        },
        "id": "bC_vTs-6s0Tb",
        "colab_type": "text"
      },
      "source": [
        "Використовуємо функцію unique()  стовпця <b>malignant</b>  (злоякісність), щоб побачити, які класи зустрічаються в ньому.\n",
        "\n",
        "Як результат ми бачимо, що існує два класи <b> \"1\" і \"0\" </b>"
      ]
    },
    {
      "cell_type": "code",
      "metadata": {
        "button": false,
        "new_sheet": false,
        "run_control": {
          "read_only": false
        },
        "id": "ccDUR9qQs0Tc",
        "colab_type": "code",
        "colab": {}
      },
      "source": [
        "# your code here"
      ],
      "execution_count": 0,
      "outputs": []
    },
    {
      "cell_type": "markdown",
      "metadata": {
        "button": false,
        "new_sheet": false,
        "run_control": {
          "read_only": false
        },
        "id": "Po82CtGms0Tg",
        "colab_type": "text"
      },
      "source": [
        "Вони відображаються як числові дані, і треба використовувати <b> \"LabelEncoder\" </b> у sklearn, щоб перетворити їх на мітки та зберегти в змінній <b> \"Y\" </b>, яка буде використовуватися як цільове значення (результат роботи системи)."
      ]
    },
    {
      "cell_type": "markdown",
      "metadata": {
        "id": "22XJgRtgGZtI",
        "colab_type": "text"
      },
      "source": [
        "імпортуйте LabelEncoder  з sklearn.preprocessing"
      ]
    },
    {
      "cell_type": "code",
      "metadata": {
        "button": false,
        "new_sheet": false,
        "run_control": {
          "read_only": false
        },
        "id": "pQe2XnHys0Ti",
        "colab_type": "code",
        "colab": {}
      },
      "source": [
        "# your code here"
      ],
      "execution_count": 0,
      "outputs": []
    },
    {
      "cell_type": "markdown",
      "metadata": {
        "id": "qhbrAaxAGtsa",
        "colab_type": "text"
      },
      "source": [
        "Вхідні дані, на основі яких система буде приймати рішення про те, злоякісна пухлина чи ні, запишемо у змінну Х"
      ]
    },
    {
      "cell_type": "code",
      "metadata": {
        "button": false,
        "new_sheet": false,
        "run_control": {
          "read_only": false
        },
        "id": "skPnd-AYs0Tl",
        "colab_type": "code",
        "colab": {}
      },
      "source": [
        "X = df[['A','B']]\n",
        "X[0:5]"
      ],
      "execution_count": 0,
      "outputs": []
    },
    {
      "cell_type": "markdown",
      "metadata": {
        "id": "TnGcrst2G-pR",
        "colab_type": "text"
      },
      "source": [
        "Мітки - бажаний результат роботи системи, запишемо у змінну Y"
      ]
    },
    {
      "cell_type": "code",
      "metadata": {
        "id": "r2PMMpWHs0To",
        "colab_type": "code",
        "colab": {}
      },
      "source": [
        "label = LabelEncoder().fit(df['malignant'])\n",
        "Y = label.transform(df['malignant'])\n",
        "Y[0:5]"
      ],
      "execution_count": 0,
      "outputs": []
    },
    {
      "cell_type": "markdown",
      "metadata": {
        "button": false,
        "new_sheet": false,
        "run_control": {
          "read_only": false
        },
        "id": "tapdTEvRs0Ts",
        "colab_type": "text"
      },
      "source": [
        "Тепер ми використовуємо наступний код, щоб побачити, як виглядає цей набір даних"
      ]
    },
    {
      "cell_type": "code",
      "metadata": {
        "button": false,
        "new_sheet": false,
        "run_control": {
          "read_only": false
        },
        "scrolled": true,
        "id": "WxRkzpcns0Tv",
        "colab_type": "code",
        "colab": {}
      },
      "source": [
        "#plt.figure(figsize=(10,10))\n",
        "plt.xlabel('A', size=30)\n",
        "plt.ylabel('B',size=30)\n",
        "plt.scatter(x=X['A'],y=X['B'],c=Y,cmap='bwr')\n",
        "plt.legend(Y,loc=4)"
      ],
      "execution_count": 0,
      "outputs": []
    },
    {
      "cell_type": "markdown",
      "metadata": {
        "id": "LQTo6pSbs0T1",
        "colab_type": "text"
      },
      "source": [
        "## Train/Test split"
      ]
    },
    {
      "cell_type": "markdown",
      "metadata": {
        "button": false,
        "new_sheet": false,
        "run_control": {
          "read_only": false
        },
        "id": "1C4SzjrWs0T2",
        "colab_type": "text"
      },
      "source": [
        "На наступних етапах ми розбиваємо дані на 60% проти 40%, тренуємо на цих даних дерево класифікації (**classification tree**), в якому кожен лист містить 5 вибірок шляхом навчання на  тренувальному набору даних (training dataset).\n",
        "\n",
        "Потім ми використовуємо тестовий набір даних (test dataset), щоб отримати <b> confusion Matrix </b> і <b> звіт про рейтинг класифікації (classification rate report) , які покажуть ефективність класифікації"
      ]
    },
    {
      "cell_type": "code",
      "metadata": {
        "button": false,
        "new_sheet": false,
        "run_control": {
          "read_only": false
        },
        "id": "XhfhCyjbs0T4",
        "colab_type": "code",
        "colab": {}
      },
      "source": [
        "from sklearn.model_selection import train_test_split"
      ],
      "execution_count": 0,
      "outputs": []
    },
    {
      "cell_type": "code",
      "metadata": {
        "button": false,
        "new_sheet": false,
        "run_control": {
          "read_only": false
        },
        "id": "EQiy1_Y_s0T8",
        "colab_type": "code",
        "colab": {}
      },
      "source": [
        "X_train, X_test, Y_train, Y_test = train_test_split(X, Y, test_size =0.4, random_state=3)\n",
        "print 'Train set:', X_train.shape,  Y_train.shape\n",
        "print 'Test set:', X_test.shape,  Y_test.shape"
      ],
      "execution_count": 0,
      "outputs": []
    },
    {
      "cell_type": "code",
      "metadata": {
        "id": "15ha-5OQs0T_",
        "colab_type": "code",
        "colab": {}
      },
      "source": [
        "Y_test[Y_test == 1].size"
      ],
      "execution_count": 0,
      "outputs": []
    },
    {
      "cell_type": "markdown",
      "metadata": {
        "id": "9aJDTFPis0UF",
        "colab_type": "text"
      },
      "source": [
        "## Decision Tree"
      ]
    },
    {
      "cell_type": "markdown",
      "metadata": {
        "id": "H7_Olg2uIxjS",
        "colab_type": "text"
      },
      "source": [
        "1. Імпортуйте **DecisionTreeClassifier** з бібліотеки **sklearn.tree**\n",
        "2. Створіть  **DecisionTreeClassifier** та збережіть його у змінну **tree**. В параметрах (в дужках) вкажіть максимальну глибину - 5 (*max_depth=5*)\n",
        "3. Виконайте навченя дерева класифікації **tree** за допомогою метода **fit** на підготованих тренувальних даних (X_train, Y_train)\n",
        "\n",
        "Документація https://scikit-learn.org/stable/modules/generated/sklearn.tree.DecisionTreeClassifier.html#sklearn.tree.DecisionTreeClassifier.fit"
      ]
    },
    {
      "cell_type": "code",
      "metadata": {
        "button": false,
        "new_sheet": false,
        "run_control": {
          "read_only": false
        },
        "id": "UKYSl0Xks0UH",
        "colab_type": "code",
        "colab": {}
      },
      "source": [
        "# your code here"
      ],
      "execution_count": 0,
      "outputs": []
    },
    {
      "cell_type": "markdown",
      "metadata": {
        "id": "0DOGCabXs0UL",
        "colab_type": "text"
      },
      "source": [
        "### Прогнозування та оцінка (Prediciton and evaluation)"
      ]
    },
    {
      "cell_type": "markdown",
      "metadata": {
        "id": "aW5UKmYBLEtL",
        "colab_type": "text"
      },
      "source": [
        "Перевіримо, як працює створене дерево рішень після навчання на train_set. \n",
        "\n",
        "Для цього спробуємо передати йому лише характеристики пухлин (параметри A,B, які ми зберегли у змінній X) та подивимось, які отримаємо результати.\n",
        "\n",
        "Для цього треба викликати метод *predict()* створеного дерева класифікації *tree* та передати в якості параметрів тестові дані *X_test*\n",
        "\n",
        "Результат збережіть у змінну predictions"
      ]
    },
    {
      "cell_type": "code",
      "metadata": {
        "button": false,
        "new_sheet": false,
        "run_control": {
          "read_only": false
        },
        "id": "vQ-n4yvxs0UM",
        "colab_type": "code",
        "colab": {}
      },
      "source": [
        "# your code here"
      ],
      "execution_count": 0,
      "outputs": []
    },
    {
      "cell_type": "markdown",
      "metadata": {
        "id": "IZ0FUnfVMdHq",
        "colab_type": "text"
      },
      "source": [
        "Далі перевіримо, наскільки отримані результати відрізняються від реальних. Для цього створимо confusion_matrix - матрицю помилок.\n",
        "\n",
        "![alt text](http://bazhenov.me/images/classification-performance-evaluation/contingency-table.png)\n",
        "\n",
        "У таблиці міститься інформація скільки разів система прийняла вірне і скільки разів невірне рішення за документами заданого класу. А саме:\n",
        "\n",
        "TP - істино-позитивне рішення;\n",
        "TN - істино-негативне рішення;\n",
        "FP - хибно-позитивного рішення;\n",
        "FN - хибно-негативне рішення.\n",
        "\n",
        "[про оцінку класифікатора](http://bazhenov.me/blog/2012/07/21/classification-performance-evaluation.html)\n",
        "\n"
      ]
    },
    {
      "cell_type": "code",
      "metadata": {
        "button": false,
        "new_sheet": false,
        "run_control": {
          "read_only": false
        },
        "scrolled": true,
        "id": "5YOU5HnSs0UR",
        "colab_type": "code",
        "colab": {}
      },
      "source": [
        "from sklearn.metrics import classification_report, confusion_matrix\n",
        "print(confusion_matrix(Y_test, predictions))\n",
        "print('\\n')\n",
        "print(classification_report(Y_test, predictions))"
      ],
      "execution_count": 0,
      "outputs": []
    },
    {
      "cell_type": "markdown",
      "metadata": {
        "button": false,
        "new_sheet": false,
        "run_control": {
          "read_only": false
        },
        "id": "0WZhBGRQs0UW",
        "colab_type": "text"
      },
      "source": [
        "(Необов'язково) Ви можете візуалізувати все дерево наступним чином:"
      ]
    },
    {
      "cell_type": "code",
      "metadata": {
        "button": false,
        "new_sheet": false,
        "run_control": {
          "read_only": false
        },
        "id": "9rgRbEkes0UY",
        "colab_type": "code",
        "colab": {}
      },
      "source": [
        "from IPython.display import Image\n",
        "from sklearn.externals.six import StringIO\n",
        "from sklearn.tree import export_graphviz\n",
        "#import pydot"
      ],
      "execution_count": 0,
      "outputs": []
    },
    {
      "cell_type": "code",
      "metadata": {
        "button": false,
        "new_sheet": false,
        "run_control": {
          "read_only": false
        },
        "id": "FVNnmi6Ks0Uk",
        "colab_type": "code",
        "colab": {}
      },
      "source": [
        "classname=np.unique(Y_train).tolist()\n",
        "classname = list(map(str,classname))\n",
        "classname"
      ],
      "execution_count": 0,
      "outputs": []
    },
    {
      "cell_type": "code",
      "metadata": {
        "button": false,
        "new_sheet": false,
        "run_control": {
          "read_only": false
        },
        "id": "2lVHS15qs0Uv",
        "colab_type": "code",
        "colab": {}
      },
      "source": [
        "import pydotplus\n",
        "filename = \"foresttree.png\"\n",
        "import matplotlib.image as mpimg\n",
        "dot_data = StringIO()\n",
        "export_graphviz(tree, out_file=dot_data, \n",
        "                feature_names=df.columns[1:3],\n",
        "                class_names=classname,\n",
        "                filled=True, rounded=True)\n",
        "graph = pydotplus.graph_from_dot_data(dot_data.getvalue())\n",
        "graph.write_png(filename)\n",
        "img = mpimg.imread(filename)\n",
        "plt.figure(figsize=(20, 40))\n",
        "plt.imshow(img,interpolation='nearest')"
      ],
      "execution_count": 0,
      "outputs": []
    },
    {
      "cell_type": "markdown",
      "metadata": {
        "button": false,
        "new_sheet": false,
        "run_control": {
          "read_only": false
        },
        "id": "UdTZ4osvs0Uz",
        "colab_type": "text"
      },
      "source": [
        "Як ви можете бачити з результату, єдине дерево класифікації дасть нам 84% загальної точності.\n",
        "\n",
        "Давайте подивимося, як 1000 таких дерев (випадковий ліс) спрацюють на тому ж навчальному наборі даних."
      ]
    },
    {
      "cell_type": "markdown",
      "metadata": {
        "button": false,
        "new_sheet": false,
        "run_control": {
          "read_only": false
        },
        "id": "akSzkmqbs0U0",
        "colab_type": "text"
      },
      "source": [
        "## Random forest\n",
        "Спочатку імпортуємо <b>\"RandomForestClassifier</b>."
      ]
    },
    {
      "cell_type": "code",
      "metadata": {
        "button": false,
        "new_sheet": false,
        "run_control": {
          "read_only": false
        },
        "id": "FVtEeeYQs0U1",
        "colab_type": "code",
        "colab": {}
      },
      "source": [
        "from sklearn.ensemble import RandomForestClassifier"
      ],
      "execution_count": 0,
      "outputs": []
    },
    {
      "cell_type": "markdown",
      "metadata": {
        "button": false,
        "new_sheet": false,
        "run_control": {
          "read_only": false
        },
        "id": "kIUeKEkUs0U5",
        "colab_type": "text"
      },
      "source": [
        "Наступні кроки цілком такі ж, як ми зробили для підготовки дерева класифікації.\n",
        "\n",
        "Різниця полягає в тому, що ми додаємо параметр під назвою <b> n_estimators </b>, коли визначаємо ліс.\n",
        "\n",
        "Цей параметр повідомляє комп'ютеру, скільки таких дерев ми будемо використовувати.\n",
        "\n",
        "Тут ми встановлюємо його як 1000, що означає, що 1000 випадкових дерев класифікації будуть побудовані на основі даних навчання, і ці дерева збираються класифікувати речі більшістю голосів за власним поглядом на перспективу."
      ]
    },
    {
      "cell_type": "markdown",
      "metadata": {
        "id": "bFb0kIy8P92t",
        "colab_type": "text"
      },
      "source": [
        "1. Створіть випадковий ліс за допомогою **RandomForestClassifier()** з параметрами **n_estimators=1000, max_depth=5**, та збережіть його у змінну **forest**\n",
        "\n",
        "2. Виконайте навчання: для цього використовуйте для змінної **forest**  метод **fit**, у який передайте створені раніше тренувальні вибірки даних (X_train,Y_train) \n",
        "\n",
        "3. Перевірте, як працює створений випадковий ліс **forest** після навчання: для цього використайте метод **predict**, у який вякості  параметрів передайте тестову вибірку *X_test*, результат збережіть у змінну **predictions** \n"
      ]
    },
    {
      "cell_type": "code",
      "metadata": {
        "button": false,
        "new_sheet": false,
        "run_control": {
          "read_only": false
        },
        "id": "6ZO4uvkXs0U6",
        "colab_type": "code",
        "colab": {}
      },
      "source": [
        "# your code here"
      ],
      "execution_count": 0,
      "outputs": []
    },
    {
      "cell_type": "markdown",
      "metadata": {
        "id": "xMXx9IPqShI-",
        "colab_type": "text"
      },
      "source": [
        "Далі так само, як і для дерева рішень, побудуємо матрицю помилок для випадкового лісу:"
      ]
    },
    {
      "cell_type": "code",
      "metadata": {
        "id": "6wj8NlMoSeUA",
        "colab_type": "code",
        "colab": {}
      },
      "source": [
        "# your code here"
      ],
      "execution_count": 0,
      "outputs": []
    },
    {
      "cell_type": "markdown",
      "metadata": {
        "button": false,
        "collapsed": true,
        "new_sheet": false,
        "run_control": {
          "read_only": false
        },
        "id": "5yqcPcg8s0U_",
        "colab_type": "text"
      },
      "source": [
        "Як бачимо з результатів.\n",
        "Загальна точність покращилася до 90%."
      ]
    },
    {
      "cell_type": "code",
      "metadata": {
        "id": "lZkChNmes0VC",
        "colab_type": "code",
        "colab": {}
      },
      "source": [
        "2*(0.79*0.98)/ (0.79+0.98) "
      ],
      "execution_count": 0,
      "outputs": []
    },
    {
      "cell_type": "markdown",
      "metadata": {
        "id": "-aaZzswps0VF",
        "colab_type": "text"
      },
      "source": [
        "## Practice"
      ]
    },
    {
      "cell_type": "markdown",
      "metadata": {
        "id": "ND4hTO_Js0VG",
        "colab_type": "text"
      },
      "source": [
        "Lets run Random Forests algorithm on Egyptian skulls dataset. First, we import the needed libraries."
      ]
    },
    {
      "cell_type": "code",
      "metadata": {
        "id": "P0sxmtNXs0VH",
        "colab_type": "code",
        "colab": {}
      },
      "source": [
        "import pandas as pd\n",
        "import numpy as np\n",
        "import matplotlib.pyplot as plt\n",
        "# Import the RandomForestClassifier class from sklearn.ensemble\n",
        "from sklearn.ensemble import RandomForestClassifier\n",
        "import sklearn\n",
        "from sklearn.preprocessing import LabelEncoder\n",
        "%matplotlib inline"
      ],
      "execution_count": 0,
      "outputs": []
    },
    {
      "cell_type": "markdown",
      "metadata": {
        "id": "Eh-oJuUps0VN",
        "colab_type": "text"
      },
      "source": [
        "Let's use the same <b>X_trainset</b>, <b>y_trainset</b> datasets that we made when dealing with the <b>Decision Trees</b>  <b>skullsForest</b>.\n"
      ]
    },
    {
      "cell_type": "code",
      "metadata": {
        "id": "dTyuePwys0VQ",
        "colab_type": "code",
        "colab": {}
      },
      "source": [
        "my_data = pd.read_csv(\"https://vincentarelbundock.github.io/Rdatasets/csv/HSAUR/skulls.csv\", delimiter=\",\")\n",
        "my_data[0:5]\n",
        "# axis=1 means we are removing columns instead of rows.\n",
        "X = my_data.drop(my_data.columns[[0,1]], axis=1).values\n",
        "targetNames = my_data[\"epoch\"].unique().tolist()\n",
        "y = my_data[\"epoch\"]\n",
        "X_trainset, X_testset, y_trainset, y_testset = train_test_split(X, y, test_size=0.3, random_state=3)\n",
        "print 'Train set:', X_trainset.shape,  y_trainset.shape\n",
        "print 'Test set:', X_testset.shape,  y_testset.shape"
      ],
      "execution_count": 0,
      "outputs": []
    },
    {
      "cell_type": "markdown",
      "metadata": {
        "id": "I7LBskO3s0VT",
        "colab_type": "text"
      },
      "source": [
        "Create an instance of the <b>RandomForestClassifier()</b> called <b>skullsForest</b>, where the forest has <b>10 decision tree estimators</b> (<i>n_estimators=10</i>) and the <b>criterion is entropy</b> (<i>criterion=\"entropy\"</i>). Then fit it with trainset."
      ]
    },
    {
      "cell_type": "code",
      "metadata": {
        "id": "3xyHpx0Rs0VW",
        "colab_type": "code",
        "colab": {}
      },
      "source": [
        "# your code here\n",
        "\n"
      ],
      "execution_count": 0,
      "outputs": []
    },
    {
      "cell_type": "markdown",
      "metadata": {
        "id": "y96R-XPbs0Vb",
        "colab_type": "text"
      },
      "source": [
        "Let's now create a variable called <b>predForest</b> using a predict on <b>X_testset</b> with <b>skullsForest</b>. You can print out <b>predForest</b> and <b>y_testset</b> if you want to visually compare the prediction to the actual values."
      ]
    },
    {
      "cell_type": "code",
      "metadata": {
        "id": "NITatY-Vs0Vc",
        "colab_type": "code",
        "colab": {}
      },
      "source": [
        "# your code here\n",
        "\n",
        "\n"
      ],
      "execution_count": 0,
      "outputs": []
    },
    {
      "cell_type": "markdown",
      "metadata": {
        "id": "rhf3cr9ks0Vm",
        "colab_type": "text"
      },
      "source": [
        "Let's check the accuracy of our model. <br>\n",
        "\n",
        "Note: Make sure you have metrics imported from sklearn"
      ]
    },
    {
      "cell_type": "code",
      "metadata": {
        "id": "ETfQTgWKs0Vn",
        "colab_type": "code",
        "colab": {}
      },
      "source": [
        "# your code here\n",
        "\n"
      ],
      "execution_count": 0,
      "outputs": []
    },
    {
      "cell_type": "markdown",
      "metadata": {
        "button": false,
        "collapsed": true,
        "new_sheet": false,
        "run_control": {
          "read_only": false
        },
        "id": "wgvPqDyCs0Vp",
        "colab_type": "text"
      },
      "source": [
        "## Want to learn more?\n",
        "\n",
        "You can take free [Machine learning with Python](https://cocl.us/DX0108EN_ML0101EN)course.\n",
        "\n",
        "IBM SPSS Modeler is a comprehensive analytics platform that has many machine learning algorithms. It has been designed to bring predictive intelligence to decisions made by individuals, by groups, by systems – by your enterprise as a whole. A free trial is available through this course, available here: [SPSS Modeler for Mac users](https://cocl.us/DX0108EN_SPSSMod_mac) and [SPSS Modeler for Windows users](https://cocl.us/DX0108EN_SPSSMod_win)\n",
        "\n",
        "Also, you can use Data Science Experience to run these notebooks faster with bigger datasets. Data Science Experience is IBM's leading cloud solution for data scientists, built by data scientists. With Jupyter notebooks, RStudio, Apache Spark and popular libraries pre-packaged in the cloud, DSX enables data scientists to collaborate on their projects without having to install anything. Join the fast-growing community of DSX users today with a free account at [Data Science Experience](https://cocl.us/DX0108EN_DSX)\n"
      ]
    },
    {
      "cell_type": "markdown",
      "metadata": {
        "button": false,
        "collapsed": true,
        "new_sheet": false,
        "run_control": {
          "read_only": false
        },
        "id": "DB_lNpets0Vr",
        "colab_type": "text"
      },
      "source": [
        "<hr>\n",
        "Copyright &copy; 2017 [Cognitive Class](https://cocl.us/DX0108EN_CC). This notebook and its source code are released under the terms of the [MIT License](https://bigdatauniversity.com/mit-license/).​"
      ]
    }
  ]
}