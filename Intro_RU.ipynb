{
  "nbformat": 4,
  "nbformat_minor": 0,
  "metadata": {
    "colab": {
      "name": "Intro RU.ipynb",
      "version": "0.3.2",
      "provenance": [],
      "include_colab_link": true
    },
    "kernelspec": {
      "display_name": "Python 2",
      "language": "python",
      "name": "python2"
    }
  },
  "cells": [
    {
      "cell_type": "markdown",
      "metadata": {
        "id": "view-in-github",
        "colab_type": "text"
      },
      "source": [
        "<a href=\"https://colab.research.google.com/github/AnastasiyaKS/IDA-labs-RU/blob/master/Intro_RU.ipynb\" target=\"_parent\"><img src=\"https://colab.research.google.com/assets/colab-badge.svg\" alt=\"Open In Colab\"/></a>"
      ]
    },
    {
      "metadata": {
        "id": "L_doXe5E8AZE",
        "colab_type": "text"
      },
      "cell_type": "markdown",
      "source": [
        "## <center> Getting Started with Jupyter Notebooks"
      ]
    },
    {
      "metadata": {
        "id": "F1MWvvPO8AZG",
        "colab_type": "text"
      },
      "cell_type": "markdown",
      "source": [
        "Jupyter notebooks (ранее известные как ноутбуки IPython) - это инструмент для научных исследований с открытым исходным кодом, который позволяет вам писать и выполнять код, добавлять текст и изображения - все в одном документе, называемом ноутбуком.\n",
        "\n",
        "Например, серая ячейка ниже - ячейка кода. Внутри ячеек кода вы можете написать код и выполнить его. \n",
        "Попробуйте выполнить следующую ячейку кода:"
      ]
    },
    {
      "metadata": {
        "id": "BZNpqPBZ8AZI",
        "colab_type": "text"
      },
      "cell_type": "markdown",
      "source": [
        "Кликните на ячейку ниже и нажмите $Shift+Enter$, чтобы запустить код:"
      ]
    },
    {
      "metadata": {
        "id": "hEZlxWEV8AZJ",
        "colab_type": "code",
        "colab": {}
      },
      "cell_type": "code",
      "source": [
        "x = \"Hello World!\"\n",
        "print(x)"
      ],
      "execution_count": 0,
      "outputs": []
    },
    {
      "metadata": {
        "id": "k-wi81dL8AZX",
        "colab_type": "text"
      },
      "cell_type": "markdown",
      "source": [
        "Код выполняется с использованием специального интерпретатора для этого ноутбука. В этом ноутбуке по умолчанию используется **Python 2**,  что вы можете увидеть в правом верхнем углу. Существуют и другие интерпретаторы, которые вы можете выбрать (например, Python 3, R, Scala), но об этом позже.\n",
        "\n",
        "На данный момент просто помните, что **вы можете использовать только один язык программирования одновременно в одном ноутбуке Jupyter**.\n",
        "\n",
        "Обратите внимание, что созданные вами переменные также сохраняются в памяти. Например, если вы снова запустите *print (x)*, он будет использовать ранее назначенное значение *x* («Hello World!»).\n",
        "\n",
        "Попробуйте запустить следующую ячейку:"
      ]
    },
    {
      "metadata": {
        "id": "EdOVqTJx8AZY",
        "colab_type": "code",
        "colab": {}
      },
      "cell_type": "code",
      "source": [
        "print(x)"
      ],
      "execution_count": 0,
      "outputs": []
    },
    {
      "metadata": {
        "id": "q0kjVyAl8AZe",
        "colab_type": "text"
      },
      "cell_type": "markdown",
      "source": [
        "Вы также можете попробовать **создавать свои собственные ячейки кода.**\n",
        "\n",
        "Наведя курсор на пространство между ячейками, вы увидите всплывающую панель, где можно выбрать тип новой ячейки : код или текст .\n",
        "\n",
        "Попробуйте создать новую ячейку кода."
      ]
    },
    {
      "metadata": {
        "id": "T36qJ2HS8AZf",
        "colab_type": "code",
        "colab": {}
      },
      "cell_type": "code",
      "source": [
        ""
      ],
      "execution_count": 0,
      "outputs": []
    },
    {
      "metadata": {
        "id": "0Ljnn8RE8AZn",
        "colab_type": "text"
      },
      "cell_type": "markdown",
      "source": [
        "Теперь, когда вы знаете, как создать новую ячейку, попробуйте написать какой-то код, например:\n",
        "\n",
        "```\n",
        "y = 1 + 1\n",
        "print(y)\n",
        "```\n",
        "и выполнить его.\n",
        "\n",
        "Для редактирования ячейки достаточно дважды кликнуть на ней или нажать *Enter*.\n"
      ]
    },
    {
      "metadata": {
        "id": "S38OA6IW8AZr",
        "colab_type": "text"
      },
      "cell_type": "markdown",
      "source": [
        "### Текстовые ячейки"
      ]
    },
    {
      "metadata": {
        "id": "dyC86Ksk8AZu",
        "colab_type": "text"
      },
      "cell_type": "markdown",
      "source": [
        "Вы могли заинтересоваться, как добавить в текст - такой, как этот - к своему ноутбуку. Это специальные типы ячеек, называемые ** «ячейками Markdown»**.\n",
        "_Markdown_ просто ссылается на тип стиля форматирования.\n",
        "\n",
        "Чтобы создать ячейку Markdown, выберите тип \"Text\" при добавлении новой ячейки.\n"
      ]
    },
    {
      "metadata": {
        "id": "cy7l73V-8AZz",
        "colab_type": "text"
      },
      "cell_type": "markdown",
      "source": [
        "## Вот несколько полезных советов и трюков, которые вы можете использовать с форматированием текстовых ячеек"
      ]
    },
    {
      "metadata": {
        "collapsed": true,
        "id": "Ah7Xs0RC8AZ1",
        "colab_type": "text"
      },
      "cell_type": "markdown",
      "source": [
        "# Great\n",
        "## Wow\n",
        "### Amazing\n",
        "#### Super\n",
        "\n",
        "1. Eat\n",
        "2. _Sleep_\n",
        "3. **Code**\n",
        "> Build machine learning models  \n",
        "\n",
        "<center>`Write more code`</center>\n",
        "\n",
        "- double click this cell to edit \n",
        "- memo\n",
        "\n",
        "Create fancy $functions$\n",
        "\n",
        "<font color=\"red\">Data Science</font>  \n",
        "\n",
        "![alt text](https://cdn-images-1.medium.com/max/1200/1*mgXvzNcwfpnBawI6XTkVRg.png)\n"
      ]
    },
    {
      "metadata": {
        "id": "EyTF-iPp8AZ9",
        "colab_type": "text"
      },
      "cell_type": "markdown",
      "source": [
        "# <center>`Дополнительные советы:`</center>"
      ]
    },
    {
      "metadata": {
        "id": "o6ihGAYQ8AaB",
        "colab_type": "text"
      },
      "cell_type": "markdown",
      "source": [
        "### Выбор интерпретатора: Python 2, Python 3"
      ]
    },
    {
      "metadata": {
        "id": "QS5iRPx98AaD",
        "colab_type": "text"
      },
      "cell_type": "markdown",
      "source": [
        "Для смены интерпретатора (языка программирования, на котором должен выполняться код), выберите сверху меню \"Runtime\" --> \"Change runtime type\"."
      ]
    },
    {
      "metadata": {
        "id": "NBB5LDxK8AaG",
        "colab_type": "text"
      },
      "cell_type": "markdown",
      "source": [
        "###Создание новых ноутбуков"
      ]
    },
    {
      "metadata": {
        "id": "cOyzUikg8AaI",
        "colab_type": "text"
      },
      "cell_type": "markdown",
      "source": [
        "Выберите меню \"File\" --> \"New Python 2/3 notebook\""
      ]
    },
    {
      "metadata": {
        "id": "bYIsptBM8AaK",
        "colab_type": "text"
      },
      "cell_type": "markdown",
      "source": [
        "### Загрузка ноутбуков"
      ]
    },
    {
      "metadata": {
        "id": "-XVSq1948AaL",
        "colab_type": "text"
      },
      "cell_type": "markdown",
      "source": [
        "Для загрузки уже существующих ноутбуков \"File\" --> \"Open\"(чтобы открыть ноутбук с гугл-диска или github)/ \"Upload\"(чтобы загурзить с компьютера)"
      ]
    },
    {
      "metadata": {
        "id": "FDsJQYJ48AaN",
        "colab_type": "text"
      },
      "cell_type": "markdown",
      "source": [
        "### Сохранение ноутбуков"
      ]
    },
    {
      "metadata": {
        "id": "537-Hyek8AaP",
        "colab_type": "text"
      },
      "cell_type": "markdown",
      "source": [
        "Автосохранение - каждые 120 секунд, но в случае необходимости можно выбрать пункт меню **File -> Save** "
      ]
    },
    {
      "metadata": {
        "id": "zEx-G02l8AaR",
        "colab_type": "text"
      },
      "cell_type": "markdown",
      "source": [
        "### Удаление ноутбуков"
      ]
    },
    {
      "metadata": {
        "id": "3w95gqAT8AaS",
        "colab_type": "text"
      },
      "cell_type": "markdown",
      "source": [
        "File --> Move to trash"
      ]
    },
    {
      "metadata": {
        "id": "N5s_v80N8AaV",
        "colab_type": "text"
      },
      "cell_type": "markdown",
      "source": [
        "### Переименование ноутбуков"
      ]
    },
    {
      "metadata": {
        "id": "bkZhycLQ8AaY",
        "colab_type": "text"
      },
      "cell_type": "markdown",
      "source": [
        "Просто кликните на имени ноутбука вверху страницы и введите новое имя."
      ]
    },
    {
      "metadata": {
        "id": "oOgXemph8Aaa",
        "colab_type": "text"
      },
      "cell_type": "markdown",
      "source": [
        "# <center> And that's all you need to know about Jupyter notebooks!\n",
        "### <center> To learn more, check out the free [courses](https://courses.bdu.intela-edu.com/courses?utm_source=dsbootcamp&utm_medium=notebook) and [learning paths](https://bdu.intela-edu.com/?utm_source=dsbootcamp&utm_medium=notebook) available on [Intela](https://bdu.intela-edu.com/?utm_source=dsbootcamp&utm_medium=notebook):\n",
        "\n",
        "<div>\n",
        "<a href = https://bdu.intela-edu.com/?utm_source=dsbootcamp&utm_medium=notebook><img src = https://ibm.box.com/shared/static/5zq755cmcpp36r2o9wvcn1xvsdv4rrhx.png></a></div>"
      ]
    }
  ]
}